{
 "cells": [
  {
   "cell_type": "markdown",
   "metadata": {},
   "source": [
    "<center><img src=\"https://keras.io/img/logo-small.png\" alt=\"Keras logo\" width=\"100\"><br/>\n",
    "This starter notebook is provided by the Keras team.</center>"
   ]
  },
  {
   "cell_type": "markdown",
   "metadata": {},
   "source": [
    "# PII Data Detection with [KerasNLP](https://github.com/keras-team/keras-nlp) and [Keras](https://github.com/keras-team/keras)\n",
    "\n",
    "> The objective of this competition is to detect and remove personally identifiable information (PII) from student writing.\n",
    "\n",
    "<div align=\"center\">\n",
    "    <img src=\"https://i.ibb.co/3stPB0t/pii-data-detection.jpg\" alt=\"PII Data Detection\">\n",
    "</div>\n",
    "\n",
    "The task of this competition falls under **Token Classification** (not Text Classification!), sometimes known as **Named Entity Recognition (NER)**. This notebook guides you through performing this task from scratch for the competition. Implementing from scratch is a unique feature of this notebook, as most public notebooks use **HuggingFace** to handle modeling and data processing, which performs many tasks under the hood. One may have to look deeper into the repository to understand what is happening inside. In contrast, this notebook goes step by step, showing you exactly how Token Classification works. A cherry on top: this notebook leverages **Mixed Precision** and **Distributed (multi-GPU)** Training/Inference to turbocharge performance!\n",
    "\n",
    "<u>Fun fact</u>: This notebook is backend-agnostic, supporting TensorFlow, PyTorch, and JAX. Utilizing KerasNLP and Keras allows us to choose our preferred backend. Explore more details on [Keras](https://keras.io/keras_3/).\n",
    "\n",
    "In this notebook, you will learn how to:\n",
    "\n",
    "- Design a data pipeline for token classification.\n",
    "- Create a model for token classification with KerasNLP.\n",
    "- Load the data efficiently using [`tf.data`](https://www.tensorflow.org/guide/data).\n",
    "- Perform Mixed Precision and Distributed Training/Inference with Keras 3.\n",
    "- Make submission on test data.\n",
    "\n",
    "**Note**: For a more in-depth understanding of KerasNLP, refer to the [KerasNLP guides](https://keras.io/keras_nlp/).\n"
   ]
  },
  {
   "cell_type": "markdown",
   "metadata": {},
   "source": [
    "## 🛠 | Install Libraries  \n",
    "\n",
    "Since internet access is **disabled** during inference, we cannot install libraries in the usual `!pip install <lib_name>` manner. Instead, we need to install libraries from local files. In the following cell, we will install libraries from our local files. The installation code stays very similar - we just use the `filepath` instead of the `filename` of the library. So now the code is `!pip install <local_filepath>`. \n",
    "\n",
    "> The `filepath` of these local libraries look quite complicated, but don't be intimidated! Also `--no-deps` argument ensures that we are not installing any additional libraries."
   ]
  },
  {
   "cell_type": "code",
   "execution_count": 1,
   "metadata": {
    "_kg_hide-output": true,
    "execution": {
     "iopub.execute_input": "2024-04-15T11:14:37.963602Z",
     "iopub.status.busy": "2024-04-15T11:14:37.962873Z",
     "iopub.status.idle": "2024-04-15T11:15:23.627731Z",
     "shell.execute_reply": "2024-04-15T11:15:23.626587Z",
     "shell.execute_reply.started": "2024-04-15T11:14:37.963571Z"
    }
   },
   "outputs": [
    {
     "name": "stdout",
     "output_type": "stream",
     "text": [
      "Processing /kaggle/input/kerasv3-lib-ds/tensorflow-2.15.0.post1-cp310-cp310-manylinux_2_17_x86_64.manylinux2014_x86_64.whl\n",
      "Installing collected packages: tensorflow\n",
      "  Attempting uninstall: tensorflow\n",
      "    Found existing installation: tensorflow 2.15.0\n",
      "    Uninstalling tensorflow-2.15.0:\n",
      "      Successfully uninstalled tensorflow-2.15.0\n",
      "Successfully installed tensorflow-2.15.0.post1\n",
      "Processing /kaggle/input/kerasv3-lib-ds/keras-3.0.4-py3-none-any.whl\n",
      "Installing collected packages: keras\n",
      "  Attempting uninstall: keras\n",
      "    Found existing installation: keras 3.1.1\n",
      "    Uninstalling keras-3.1.1:\n",
      "      Successfully uninstalled keras-3.1.1\n",
      "Successfully installed keras-3.0.4\n"
     ]
    }
   ],
   "source": [
    "!pip install -qv /kaggle/input/kerasv3-lib-ds/tensorflow-2.15.0.post1-cp310-cp310-manylinux_2_17_x86_64.manylinux2014_x86_64.whl --no-deps\n",
    "!pip install -qv /kaggle/input/kerasv3-lib-ds/keras-3.0.4-py3-none-any.whl --no-deps"
   ]
  },
  {
   "cell_type": "markdown",
   "metadata": {},
   "source": [
    "# 📚 | Import Libraries "
   ]
  },
  {
   "cell_type": "code",
   "execution_count": 2,
   "metadata": {
    "_cell_guid": "b1076dfc-b9ad-4769-8c92-a6c4dae69d19",
    "_kg_hide-output": true,
    "_uuid": "8f2839f25d086af736a60e9eeb907d3b93b6e0e5",
    "execution": {
     "iopub.execute_input": "2024-04-15T11:15:23.630116Z",
     "iopub.status.busy": "2024-04-15T11:15:23.629829Z",
     "iopub.status.idle": "2024-04-15T11:15:32.189231Z",
     "shell.execute_reply": "2024-04-15T11:15:32.188237Z",
     "shell.execute_reply.started": "2024-04-15T11:15:23.630090Z"
    }
   },
   "outputs": [
    {
     "name": "stderr",
     "output_type": "stream",
     "text": [
      "2024-04-15 11:15:26.408014: E external/local_xla/xla/stream_executor/cuda/cuda_dnn.cc:9261] Unable to register cuDNN factory: Attempting to register factory for plugin cuDNN when one has already been registered\n",
      "2024-04-15 11:15:26.408068: E external/local_xla/xla/stream_executor/cuda/cuda_fft.cc:607] Unable to register cuFFT factory: Attempting to register factory for plugin cuFFT when one has already been registered\n",
      "2024-04-15 11:15:26.409439: E external/local_xla/xla/stream_executor/cuda/cuda_blas.cc:1515] Unable to register cuBLAS factory: Attempting to register factory for plugin cuBLAS when one has already been registered\n"
     ]
    }
   ],
   "source": [
    "import os\n",
    "os.environ[\"KERAS_BACKEND\"] = \"jax\" # # you can also use tensorflow or torch\n",
    "\n",
    "import keras\n",
    "import keras_nlp\n",
    "from keras import ops\n",
    "import tensorflow as tf\n",
    "\n",
    "import json\n",
    "import numpy as np\n",
    "import pandas as pd\n",
    "from tqdm.notebook import tqdm\n",
    "from sklearn.model_selection import train_test_split\n",
    "\n",
    "import plotly.graph_objs as go\n",
    "import plotly.express as px"
   ]
  },
  {
   "cell_type": "markdown",
   "metadata": {},
   "source": [
    "## Library Versions"
   ]
  },
  {
   "cell_type": "code",
   "execution_count": 3,
   "metadata": {
    "_kg_hide-input": true,
    "execution": {
     "iopub.execute_input": "2024-04-15T11:15:32.191490Z",
     "iopub.status.busy": "2024-04-15T11:15:32.190537Z",
     "iopub.status.idle": "2024-04-15T11:15:32.196474Z",
     "shell.execute_reply": "2024-04-15T11:15:32.195641Z",
     "shell.execute_reply.started": "2024-04-15T11:15:32.191454Z"
    }
   },
   "outputs": [
    {
     "name": "stdout",
     "output_type": "stream",
     "text": [
      "TensorFlow: 2.15.0\n",
      "Keras: 3.0.4\n",
      "KerasNLP: 0.8.2\n"
     ]
    }
   ],
   "source": [
    "print(\"TensorFlow:\", tf.__version__)\n",
    "print(\"Keras:\", keras.__version__)\n",
    "print(\"KerasNLP:\", keras_nlp.__version__)"
   ]
  },
  {
   "cell_type": "markdown",
   "metadata": {},
   "source": [
    "# ⚙️ | Configuration"
   ]
  },
  {
   "cell_type": "code",
   "execution_count": 4,
   "metadata": {
    "execution": {
     "iopub.execute_input": "2024-04-15T11:15:32.200549Z",
     "iopub.status.busy": "2024-04-15T11:15:32.200262Z",
     "iopub.status.idle": "2024-04-15T11:15:32.211678Z",
     "shell.execute_reply": "2024-04-15T11:15:32.210944Z",
     "shell.execute_reply.started": "2024-04-15T11:15:32.200525Z"
    }
   },
   "outputs": [],
   "source": [
    "class CFG:\n",
    "    seed = 42\n",
    "    preset = \"deberta_v3_small_en\" # name of pretrained backbone\n",
    "    train_seq_len = 1024 # max size of input sequence for training\n",
    "    train_batch_size = 2 * 8 # size of the input batch in training, x 2 as two GPUs\n",
    "    infer_seq_len = 2000 # max size of input sequence for inference\n",
    "    infer_batch_size = 2 * 2 # size of the input batch in inference, x 2 as two GPUs\n",
    "    epochs = 1 # number of epochs to train\n",
    "    lr_mode = \"exp\" # lr scheduler mode from one of \"cos\", \"step\", \"exp\"\n",
    "    \n",
    "    labels = [\"B-EMAIL\", \"B-ID_NUM\", \"B-NAME_STUDENT\", \"B-PHONE_NUM\",\n",
    "              \"B-STREET_ADDRESS\", \"B-URL_PERSONAL\", \"B-USERNAME\",\n",
    "              \"I-ID_NUM\", \"I-NAME_STUDENT\", \"I-PHONE_NUM\",\n",
    "              \"I-STREET_ADDRESS\",\"I-URL_PERSONAL\",\"O\"]\n",
    "    id2label = dict(enumerate(labels)) # integer label to BIO format label mapping\n",
    "    label2id = {v:k for k,v in id2label.items()} # BIO format label to integer label mapping\n",
    "    num_labels = len(labels) # number of PII (NER) tags\n",
    "    \n",
    "    train = False # whether to train or use already trained ckpt"
   ]
  },
  {
   "cell_type": "markdown",
   "metadata": {},
   "source": [
    "# ♻️ | Reproducibility \n",
    "Sets value for random seed to produce similar result in each run."
   ]
  },
  {
   "cell_type": "code",
   "execution_count": 5,
   "metadata": {
    "execution": {
     "iopub.execute_input": "2024-04-15T11:15:32.213091Z",
     "iopub.status.busy": "2024-04-15T11:15:32.212798Z",
     "iopub.status.idle": "2024-04-15T11:15:32.220114Z",
     "shell.execute_reply": "2024-04-15T11:15:32.219381Z",
     "shell.execute_reply.started": "2024-04-15T11:15:32.213067Z"
    }
   },
   "outputs": [],
   "source": [
    "keras.utils.set_random_seed(CFG.seed)"
   ]
  },
  {
   "cell_type": "markdown",
   "metadata": {},
   "source": [
    "# 🚀 | Distributed Training / Inference\n",
    "\n",
    "In this notebook, we will also use the `Data Parallel` strategy for **Distributed Training/Inference**. This means that the model weights will be replicated across all devices, and each device will process a portion of the input data.\n",
    "\n",
    "> **Note**: Currently, `DataParallel` is implemented on the JAX backend, so for TensorFlow and PyTorch backends, we can only use a single GPU."
   ]
  },
  {
   "cell_type": "code",
   "execution_count": 6,
   "metadata": {
    "execution": {
     "iopub.execute_input": "2024-04-15T11:15:32.221391Z",
     "iopub.status.busy": "2024-04-15T11:15:32.221128Z",
     "iopub.status.idle": "2024-04-15T11:15:32.701225Z",
     "shell.execute_reply": "2024-04-15T11:15:32.700359Z",
     "shell.execute_reply.started": "2024-04-15T11:15:32.221369Z"
    }
   },
   "outputs": [
    {
     "name": "stdout",
     "output_type": "stream",
     "text": [
      "Device: ['gpu:0', 'gpu:1']\n"
     ]
    }
   ],
   "source": [
    "# Get devices default \"gpu\" or \"tpu\"\n",
    "devices = keras.distribution.list_devices()\n",
    "print(\"Device:\", devices)\n",
    "\n",
    "if len(devices) > 1:\n",
    "    # Data parallelism\n",
    "    data_parallel = keras.distribution.DataParallel(devices=devices)\n",
    "\n",
    "    # Set the global distribution.\n",
    "    keras.distribution.set_distribution(data_parallel)"
   ]
  },
  {
   "cell_type": "markdown",
   "metadata": {},
   "source": [
    "# 🧮 | Mixed Precision\n",
    "\n",
    "To enable larger batch sizes and faster training, we'll utilize `mixed_precision` in this notebook. In Keras, this can be achieved with just **one line of code**, as shown below."
   ]
  },
  {
   "cell_type": "code",
   "execution_count": 7,
   "metadata": {
    "execution": {
     "iopub.execute_input": "2024-04-15T11:15:32.702937Z",
     "iopub.status.busy": "2024-04-15T11:15:32.702636Z",
     "iopub.status.idle": "2024-04-15T11:15:32.707201Z",
     "shell.execute_reply": "2024-04-15T11:15:32.706188Z",
     "shell.execute_reply.started": "2024-04-15T11:15:32.702912Z"
    }
   },
   "outputs": [],
   "source": [
    "keras.mixed_precision.set_global_policy(\"mixed_float16\") "
   ]
  },
  {
   "cell_type": "markdown",
   "metadata": {},
   "source": [
    "# 📁 | Dataset Path "
   ]
  },
  {
   "cell_type": "code",
   "execution_count": 8,
   "metadata": {
    "execution": {
     "iopub.execute_input": "2024-04-15T11:15:32.708829Z",
     "iopub.status.busy": "2024-04-15T11:15:32.708447Z",
     "iopub.status.idle": "2024-04-15T11:15:32.716170Z",
     "shell.execute_reply": "2024-04-15T11:15:32.715328Z",
     "shell.execute_reply.started": "2024-04-15T11:15:32.708785Z"
    }
   },
   "outputs": [],
   "source": [
    "BASE_PATH = \"/kaggle/input/pii-detection-removal-from-educational-data\""
   ]
  },
  {
   "cell_type": "markdown",
   "metadata": {},
   "source": [
    "# 📖 | Meta Data\n",
    "\n",
    "The competition dataset contains ~$22,000$ student essays where $70\\%$ essays are reserved for **testing**, leaving $30\\%$ for **training** and **validation**.\n",
    "\n",
    "Sure, here's the modified markdown with an example of the BIO format label:\n",
    "\n",
    "**Data Overview:**\n",
    "\n",
    "* All essays were written in response to the **same prompt**, applying course material to a real-world problem.\n",
    "* The dataset includes **7 types of PII**: `NAME_STUDENT`, `EMAIL`, `USERNAME`, `ID_NUM`, `PHONE_NUM`, `URL_PERSONAL`, `STREET_ADDRESS`.\n",
    "* Labels are given in **BIO (Beginning, Inner, Outer)** format.\n",
    "\n",
    "**Example of BIO format label:**\n",
    "\n",
    "Let's consider a sentence: `\"The email address of Michael jordan is mjordan@nba.com\"`. In BIO format, the labels for the personally identifiable information (PII) would be annotated as follows:\n",
    "\n",
    "| **Word** | The | email | address | of | Michael | Jordan | is | mjordan@nba.com |\n",
    "|----------|-----|-------|---------|----|---------|--------|----|----------------|\n",
    "| **Label** | O   | O     | O       | O  | B-NAME_STUDENT | I-NAME_STUDENT | O  | B-EMAIL        |\n",
    "\n",
    "In the example above, `B-` indicates the beginning of an PII, `I-` indicates an inner part of a multi-token PII, and `O` indicates tokens that do not belong to any PII.\n",
    "\n",
    "**Data Format:**\n",
    "\n",
    "* The train/test data is stored in `{test|train}.json` files.\n",
    "* Each json file has:\n",
    "    * `document`: unique ID (integer)\n",
    "    * `full_text`: essay content (string)\n",
    "    * `tokens`: individual words in the essay (list of strings)\n",
    "    * `labels` (training data only): BIO labels for each token (list of strings)"
   ]
  },
  {
   "cell_type": "code",
   "execution_count": 9,
   "metadata": {
    "execution": {
     "iopub.execute_input": "2024-04-15T11:15:32.718317Z",
     "iopub.status.busy": "2024-04-15T11:15:32.717452Z",
     "iopub.status.idle": "2024-04-15T11:15:40.233138Z",
     "shell.execute_reply": "2024-04-15T11:15:40.232279Z",
     "shell.execute_reply.started": "2024-04-15T11:15:32.718284Z"
    }
   },
   "outputs": [
    {
     "data": {
      "application/vnd.jupyter.widget-view+json": {
       "model_id": "8cf33f04060942e2be36c44eb2c16b4c",
       "version_major": 2,
       "version_minor": 0
      },
      "text/plain": [
       "  0%|          | 0/6807 [00:00<?, ?it/s]"
      ]
     },
     "metadata": {},
     "output_type": "display_data"
    }
   ],
   "source": [
    "# Train-Valid data\n",
    "data = json.load(open(f\"{BASE_PATH}/train.json\"))\n",
    "pii_external_dataset =pd.read_csv(f\"/kaggle/input/pii-external-dataset/pii_dataset.csv\")\n",
    "data_mistral = json.load(open(f\"/kaggle/input/pii-dd-mistral-generated/mixtral-8x7b-v1.json\"))\n",
    "\n",
    "# Initialize empty arrays\n",
    "words = np.empty(len(data) + len(pii_external_dataset) + len(data_mistral), dtype=object)\n",
    "labels = np.empty(len(data) + len(pii_external_dataset) + len(data_mistral), dtype=object)\n",
    "\n",
    "# Fill the arrays\n",
    "for i, x in tqdm(enumerate(data), total=len(data)):\n",
    "    words[i] = np.array(x[\"tokens\"])\n",
    "    labels[i] = np.array([CFG.label2id[label] for label in x[\"labels\"]])"
   ]
  },
  {
   "cell_type": "code",
   "execution_count": 10,
   "metadata": {
    "execution": {
     "iopub.execute_input": "2024-04-15T11:15:40.236873Z",
     "iopub.status.busy": "2024-04-15T11:15:40.236582Z",
     "iopub.status.idle": "2024-04-15T11:15:40.240912Z",
     "shell.execute_reply": "2024-04-15T11:15:40.239944Z",
     "shell.execute_reply.started": "2024-04-15T11:15:40.236849Z"
    }
   },
   "outputs": [],
   "source": [
    "import ast"
   ]
  },
  {
   "cell_type": "code",
   "execution_count": 11,
   "metadata": {
    "execution": {
     "iopub.execute_input": "2024-04-15T11:15:40.242248Z",
     "iopub.status.busy": "2024-04-15T11:15:40.241976Z",
     "iopub.status.idle": "2024-04-15T11:15:40.251403Z",
     "shell.execute_reply": "2024-04-15T11:15:40.250463Z",
     "shell.execute_reply.started": "2024-04-15T11:15:40.242216Z"
    }
   },
   "outputs": [
    {
     "name": "stdout",
     "output_type": "stream",
     "text": [
      "Length of pii_external_dataset : 4434\n"
     ]
    }
   ],
   "source": [
    "print(f\"Length of pii_external_dataset : {len(pii_external_dataset)}\")"
   ]
  },
  {
   "cell_type": "code",
   "execution_count": 12,
   "metadata": {
    "execution": {
     "iopub.execute_input": "2024-04-15T11:15:40.252850Z",
     "iopub.status.busy": "2024-04-15T11:15:40.252541Z",
     "iopub.status.idle": "2024-04-15T11:15:47.843432Z",
     "shell.execute_reply": "2024-04-15T11:15:47.842455Z",
     "shell.execute_reply.started": "2024-04-15T11:15:40.252828Z"
    }
   },
   "outputs": [],
   "source": [
    "# Fill the arrays\n",
    "for ind in range(len(pii_external_dataset)):\n",
    "    x = pii_external_dataset.iloc[ind]\n",
    "    x_tokens_list = ast.literal_eval(x[\"tokens\"])\n",
    "    x_labels_list = ast.literal_eval(x[\"labels\"])\n",
    "    words[ind + len(data)] = np.array(x_tokens_list)\n",
    "    labels[ind + len(data)] = np.array([CFG.label2id[label] for label in x_labels_list])"
   ]
  },
  {
   "cell_type": "code",
   "execution_count": 13,
   "metadata": {
    "execution": {
     "iopub.execute_input": "2024-04-15T11:15:47.845979Z",
     "iopub.status.busy": "2024-04-15T11:15:47.844687Z",
     "iopub.status.idle": "2024-04-15T11:15:47.851926Z",
     "shell.execute_reply": "2024-04-15T11:15:47.850878Z",
     "shell.execute_reply.started": "2024-04-15T11:15:47.845951Z"
    }
   },
   "outputs": [
    {
     "name": "stdout",
     "output_type": "stream",
     "text": [
      "Length of mistral_dataset : 2355\n"
     ]
    }
   ],
   "source": [
    "print(f\"Length of mistral_dataset : {len(data_mistral)}\")"
   ]
  },
  {
   "cell_type": "code",
   "execution_count": 14,
   "metadata": {
    "execution": {
     "iopub.execute_input": "2024-04-15T11:15:47.853845Z",
     "iopub.status.busy": "2024-04-15T11:15:47.853418Z",
     "iopub.status.idle": "2024-04-15T11:15:49.160634Z",
     "shell.execute_reply": "2024-04-15T11:15:49.159683Z",
     "shell.execute_reply.started": "2024-04-15T11:15:47.853811Z"
    }
   },
   "outputs": [
    {
     "data": {
      "application/vnd.jupyter.widget-view+json": {
       "model_id": "327f13669447441dbf3d8e43fbcb20a3",
       "version_major": 2,
       "version_minor": 0
      },
      "text/plain": [
       "  0%|          | 0/2355 [00:00<?, ?it/s]"
      ]
     },
     "metadata": {},
     "output_type": "display_data"
    }
   ],
   "source": [
    "for i, x in tqdm(enumerate(data_mistral), total=len(data_mistral)):\n",
    "#       print(np.array(x[\"tokens\"]))\n",
    "#       print(np.array([CFG.label2id[label] for label in x[\"labels\"]]))\n",
    "    words[i + len(data) + len(pii_external_dataset)] = np.array(x[\"tokens\"])\n",
    "    labels[i + len(data) + len(pii_external_dataset)] = np.array([CFG.label2id[label] for label in x[\"labels\"]])"
   ]
  },
  {
   "cell_type": "markdown",
   "metadata": {},
   "source": [
    "# 📊 | Exploratory Data Analysis\n",
    "\n",
    "From the following label distribution plot, it is evident that there is a significant **class imbalance** between PII tags. This could be a key area for improvement where **external datasets** and **augmentations** could play a pivotal role."
   ]
  },
  {
   "cell_type": "code",
   "execution_count": 15,
   "metadata": {
    "_kg_hide-input": true,
    "execution": {
     "iopub.execute_input": "2024-04-15T11:15:49.162777Z",
     "iopub.status.busy": "2024-04-15T11:15:49.162050Z",
     "iopub.status.idle": "2024-04-15T11:15:51.313875Z",
     "shell.execute_reply": "2024-04-15T11:15:51.312958Z",
     "shell.execute_reply.started": "2024-04-15T11:15:49.162741Z"
    }
   },
   "outputs": [
    {
     "data": {
      "text/html": [
       "        <script type=\"text/javascript\">\n",
       "        window.PlotlyConfig = {MathJaxConfig: 'local'};\n",
       "        if (window.MathJax && window.MathJax.Hub && window.MathJax.Hub.Config) {window.MathJax.Hub.Config({SVG: {font: \"STIX-Web\"}});}\n",
       "        if (typeof require !== 'undefined') {\n",
       "        require.undef(\"plotly\");\n",
       "        requirejs.config({\n",
       "            paths: {\n",
       "                'plotly': ['https://cdn.plot.ly/plotly-2.27.0.min']\n",
       "            }\n",
       "        });\n",
       "        require(['plotly'], function(Plotly) {\n",
       "            window._Plotly = Plotly;\n",
       "        });\n",
       "        }\n",
       "        </script>\n",
       "        "
      ]
     },
     "metadata": {},
     "output_type": "display_data"
    },
    {
     "data": {
      "text/html": [
       "<div>                            <div id=\"4c2f8626-b379-4943-b55a-fb218e0faee7\" class=\"plotly-graph-div\" style=\"height:525px; width:100%;\"></div>            <script type=\"text/javascript\">                require([\"plotly\"], function(Plotly) {                    window.PLOTLYENV=window.PLOTLYENV || {};                                    if (document.getElementById(\"4c2f8626-b379-4943-b55a-fb218e0faee7\")) {                    Plotly.newPlot(                        \"4c2f8626-b379-4943-b55a-fb218e0faee7\",                        [{\"x\":[\"B-EMAIL\",\"B-ID_NUM\",\"B-NAME_STUDENT\",\"B-PHONE_NUM\",\"B-STREET_ADDRESS\",\"B-URL_PERSONAL\",\"B-USERNAME\",\"I-ID_NUM\",\"I-NAME_STUDENT\",\"I-PHONE_NUM\",\"I-STREET_ADDRESS\",\"I-URL_PERSONAL\",\"O\"],\"y\":[6281,2454,18406,4813,5839,4027,3098,1060,14222,11378,28019,1,8334520],\"type\":\"bar\",\"text\":[6281.0,2454.0,18406.0,4813.0,5839.0,4027.0,3098.0,1060.0,14222.0,11378.0,28019.0,1.0,8334520.0],\"textposition\":\"outside\"}],                        {\"template\":{\"data\":{\"histogram2dcontour\":[{\"type\":\"histogram2dcontour\",\"colorbar\":{\"outlinewidth\":0,\"ticks\":\"\"},\"colorscale\":[[0.0,\"#0d0887\"],[0.1111111111111111,\"#46039f\"],[0.2222222222222222,\"#7201a8\"],[0.3333333333333333,\"#9c179e\"],[0.4444444444444444,\"#bd3786\"],[0.5555555555555556,\"#d8576b\"],[0.6666666666666666,\"#ed7953\"],[0.7777777777777778,\"#fb9f3a\"],[0.8888888888888888,\"#fdca26\"],[1.0,\"#f0f921\"]]}],\"choropleth\":[{\"type\":\"choropleth\",\"colorbar\":{\"outlinewidth\":0,\"ticks\":\"\"}}],\"histogram2d\":[{\"type\":\"histogram2d\",\"colorbar\":{\"outlinewidth\":0,\"ticks\":\"\"},\"colorscale\":[[0.0,\"#0d0887\"],[0.1111111111111111,\"#46039f\"],[0.2222222222222222,\"#7201a8\"],[0.3333333333333333,\"#9c179e\"],[0.4444444444444444,\"#bd3786\"],[0.5555555555555556,\"#d8576b\"],[0.6666666666666666,\"#ed7953\"],[0.7777777777777778,\"#fb9f3a\"],[0.8888888888888888,\"#fdca26\"],[1.0,\"#f0f921\"]]}],\"heatmap\":[{\"type\":\"heatmap\",\"colorbar\":{\"outlinewidth\":0,\"ticks\":\"\"},\"colorscale\":[[0.0,\"#0d0887\"],[0.1111111111111111,\"#46039f\"],[0.2222222222222222,\"#7201a8\"],[0.3333333333333333,\"#9c179e\"],[0.4444444444444444,\"#bd3786\"],[0.5555555555555556,\"#d8576b\"],[0.6666666666666666,\"#ed7953\"],[0.7777777777777778,\"#fb9f3a\"],[0.8888888888888888,\"#fdca26\"],[1.0,\"#f0f921\"]]}],\"heatmapgl\":[{\"type\":\"heatmapgl\",\"colorbar\":{\"outlinewidth\":0,\"ticks\":\"\"},\"colorscale\":[[0.0,\"#0d0887\"],[0.1111111111111111,\"#46039f\"],[0.2222222222222222,\"#7201a8\"],[0.3333333333333333,\"#9c179e\"],[0.4444444444444444,\"#bd3786\"],[0.5555555555555556,\"#d8576b\"],[0.6666666666666666,\"#ed7953\"],[0.7777777777777778,\"#fb9f3a\"],[0.8888888888888888,\"#fdca26\"],[1.0,\"#f0f921\"]]}],\"contourcarpet\":[{\"type\":\"contourcarpet\",\"colorbar\":{\"outlinewidth\":0,\"ticks\":\"\"}}],\"contour\":[{\"type\":\"contour\",\"colorbar\":{\"outlinewidth\":0,\"ticks\":\"\"},\"colorscale\":[[0.0,\"#0d0887\"],[0.1111111111111111,\"#46039f\"],[0.2222222222222222,\"#7201a8\"],[0.3333333333333333,\"#9c179e\"],[0.4444444444444444,\"#bd3786\"],[0.5555555555555556,\"#d8576b\"],[0.6666666666666666,\"#ed7953\"],[0.7777777777777778,\"#fb9f3a\"],[0.8888888888888888,\"#fdca26\"],[1.0,\"#f0f921\"]]}],\"surface\":[{\"type\":\"surface\",\"colorbar\":{\"outlinewidth\":0,\"ticks\":\"\"},\"colorscale\":[[0.0,\"#0d0887\"],[0.1111111111111111,\"#46039f\"],[0.2222222222222222,\"#7201a8\"],[0.3333333333333333,\"#9c179e\"],[0.4444444444444444,\"#bd3786\"],[0.5555555555555556,\"#d8576b\"],[0.6666666666666666,\"#ed7953\"],[0.7777777777777778,\"#fb9f3a\"],[0.8888888888888888,\"#fdca26\"],[1.0,\"#f0f921\"]]}],\"mesh3d\":[{\"type\":\"mesh3d\",\"colorbar\":{\"outlinewidth\":0,\"ticks\":\"\"}}],\"scatter\":[{\"fillpattern\":{\"fillmode\":\"overlay\",\"size\":10,\"solidity\":0.2},\"type\":\"scatter\"}],\"parcoords\":[{\"type\":\"parcoords\",\"line\":{\"colorbar\":{\"outlinewidth\":0,\"ticks\":\"\"}}}],\"scatterpolargl\":[{\"type\":\"scatterpolargl\",\"marker\":{\"colorbar\":{\"outlinewidth\":0,\"ticks\":\"\"}}}],\"bar\":[{\"error_x\":{\"color\":\"#2a3f5f\"},\"error_y\":{\"color\":\"#2a3f5f\"},\"marker\":{\"line\":{\"color\":\"#E5ECF6\",\"width\":0.5},\"pattern\":{\"fillmode\":\"overlay\",\"size\":10,\"solidity\":0.2}},\"type\":\"bar\"}],\"scattergeo\":[{\"type\":\"scattergeo\",\"marker\":{\"colorbar\":{\"outlinewidth\":0,\"ticks\":\"\"}}}],\"scatterpolar\":[{\"type\":\"scatterpolar\",\"marker\":{\"colorbar\":{\"outlinewidth\":0,\"ticks\":\"\"}}}],\"histogram\":[{\"marker\":{\"pattern\":{\"fillmode\":\"overlay\",\"size\":10,\"solidity\":0.2}},\"type\":\"histogram\"}],\"scattergl\":[{\"type\":\"scattergl\",\"marker\":{\"colorbar\":{\"outlinewidth\":0,\"ticks\":\"\"}}}],\"scatter3d\":[{\"type\":\"scatter3d\",\"line\":{\"colorbar\":{\"outlinewidth\":0,\"ticks\":\"\"}},\"marker\":{\"colorbar\":{\"outlinewidth\":0,\"ticks\":\"\"}}}],\"scattermapbox\":[{\"type\":\"scattermapbox\",\"marker\":{\"colorbar\":{\"outlinewidth\":0,\"ticks\":\"\"}}}],\"scatterternary\":[{\"type\":\"scatterternary\",\"marker\":{\"colorbar\":{\"outlinewidth\":0,\"ticks\":\"\"}}}],\"scattercarpet\":[{\"type\":\"scattercarpet\",\"marker\":{\"colorbar\":{\"outlinewidth\":0,\"ticks\":\"\"}}}],\"carpet\":[{\"aaxis\":{\"endlinecolor\":\"#2a3f5f\",\"gridcolor\":\"white\",\"linecolor\":\"white\",\"minorgridcolor\":\"white\",\"startlinecolor\":\"#2a3f5f\"},\"baxis\":{\"endlinecolor\":\"#2a3f5f\",\"gridcolor\":\"white\",\"linecolor\":\"white\",\"minorgridcolor\":\"white\",\"startlinecolor\":\"#2a3f5f\"},\"type\":\"carpet\"}],\"table\":[{\"cells\":{\"fill\":{\"color\":\"#EBF0F8\"},\"line\":{\"color\":\"white\"}},\"header\":{\"fill\":{\"color\":\"#C8D4E3\"},\"line\":{\"color\":\"white\"}},\"type\":\"table\"}],\"barpolar\":[{\"marker\":{\"line\":{\"color\":\"#E5ECF6\",\"width\":0.5},\"pattern\":{\"fillmode\":\"overlay\",\"size\":10,\"solidity\":0.2}},\"type\":\"barpolar\"}],\"pie\":[{\"automargin\":true,\"type\":\"pie\"}]},\"layout\":{\"autotypenumbers\":\"strict\",\"colorway\":[\"#636efa\",\"#EF553B\",\"#00cc96\",\"#ab63fa\",\"#FFA15A\",\"#19d3f3\",\"#FF6692\",\"#B6E880\",\"#FF97FF\",\"#FECB52\"],\"font\":{\"color\":\"#2a3f5f\"},\"hovermode\":\"closest\",\"hoverlabel\":{\"align\":\"left\"},\"paper_bgcolor\":\"white\",\"plot_bgcolor\":\"#E5ECF6\",\"polar\":{\"bgcolor\":\"#E5ECF6\",\"angularaxis\":{\"gridcolor\":\"white\",\"linecolor\":\"white\",\"ticks\":\"\"},\"radialaxis\":{\"gridcolor\":\"white\",\"linecolor\":\"white\",\"ticks\":\"\"}},\"ternary\":{\"bgcolor\":\"#E5ECF6\",\"aaxis\":{\"gridcolor\":\"white\",\"linecolor\":\"white\",\"ticks\":\"\"},\"baxis\":{\"gridcolor\":\"white\",\"linecolor\":\"white\",\"ticks\":\"\"},\"caxis\":{\"gridcolor\":\"white\",\"linecolor\":\"white\",\"ticks\":\"\"}},\"coloraxis\":{\"colorbar\":{\"outlinewidth\":0,\"ticks\":\"\"}},\"colorscale\":{\"sequential\":[[0.0,\"#0d0887\"],[0.1111111111111111,\"#46039f\"],[0.2222222222222222,\"#7201a8\"],[0.3333333333333333,\"#9c179e\"],[0.4444444444444444,\"#bd3786\"],[0.5555555555555556,\"#d8576b\"],[0.6666666666666666,\"#ed7953\"],[0.7777777777777778,\"#fb9f3a\"],[0.8888888888888888,\"#fdca26\"],[1.0,\"#f0f921\"]],\"sequentialminus\":[[0.0,\"#0d0887\"],[0.1111111111111111,\"#46039f\"],[0.2222222222222222,\"#7201a8\"],[0.3333333333333333,\"#9c179e\"],[0.4444444444444444,\"#bd3786\"],[0.5555555555555556,\"#d8576b\"],[0.6666666666666666,\"#ed7953\"],[0.7777777777777778,\"#fb9f3a\"],[0.8888888888888888,\"#fdca26\"],[1.0,\"#f0f921\"]],\"diverging\":[[0,\"#8e0152\"],[0.1,\"#c51b7d\"],[0.2,\"#de77ae\"],[0.3,\"#f1b6da\"],[0.4,\"#fde0ef\"],[0.5,\"#f7f7f7\"],[0.6,\"#e6f5d0\"],[0.7,\"#b8e186\"],[0.8,\"#7fbc41\"],[0.9,\"#4d9221\"],[1,\"#276419\"]]},\"xaxis\":{\"gridcolor\":\"white\",\"linecolor\":\"white\",\"ticks\":\"\",\"title\":{\"standoff\":15},\"zerolinecolor\":\"white\",\"automargin\":true,\"zerolinewidth\":2},\"yaxis\":{\"gridcolor\":\"white\",\"linecolor\":\"white\",\"ticks\":\"\",\"title\":{\"standoff\":15},\"zerolinecolor\":\"white\",\"automargin\":true,\"zerolinewidth\":2},\"scene\":{\"xaxis\":{\"backgroundcolor\":\"#E5ECF6\",\"gridcolor\":\"white\",\"linecolor\":\"white\",\"showbackground\":true,\"ticks\":\"\",\"zerolinecolor\":\"white\",\"gridwidth\":2},\"yaxis\":{\"backgroundcolor\":\"#E5ECF6\",\"gridcolor\":\"white\",\"linecolor\":\"white\",\"showbackground\":true,\"ticks\":\"\",\"zerolinecolor\":\"white\",\"gridwidth\":2},\"zaxis\":{\"backgroundcolor\":\"#E5ECF6\",\"gridcolor\":\"white\",\"linecolor\":\"white\",\"showbackground\":true,\"ticks\":\"\",\"zerolinecolor\":\"white\",\"gridwidth\":2}},\"shapedefaults\":{\"line\":{\"color\":\"#2a3f5f\"}},\"annotationdefaults\":{\"arrowcolor\":\"#2a3f5f\",\"arrowhead\":0,\"arrowwidth\":1},\"geo\":{\"bgcolor\":\"white\",\"landcolor\":\"#E5ECF6\",\"subunitcolor\":\"white\",\"showland\":true,\"showlakes\":true,\"lakecolor\":\"white\"},\"title\":{\"x\":0.05},\"mapbox\":{\"style\":\"light\"}}},\"yaxis\":{\"title\":{\"text\":\"Count\"},\"type\":\"log\"},\"title\":{\"text\":\"Label Distribution\"},\"xaxis\":{\"title\":{\"text\":\"Labels\"}}},                        {\"responsive\": true}                    ).then(function(){\n",
       "                            \n",
       "var gd = document.getElementById('4c2f8626-b379-4943-b55a-fb218e0faee7');\n",
       "var x = new MutationObserver(function (mutations, observer) {{\n",
       "        var display = window.getComputedStyle(gd).display;\n",
       "        if (!display || display === 'none') {{\n",
       "            console.log([gd, 'removed!']);\n",
       "            Plotly.purge(gd);\n",
       "            observer.disconnect();\n",
       "        }}\n",
       "}});\n",
       "\n",
       "// Listen for the removal of the full notebook cells\n",
       "var notebookContainer = gd.closest('#notebook-container');\n",
       "if (notebookContainer) {{\n",
       "    x.observe(notebookContainer, {childList: true});\n",
       "}}\n",
       "\n",
       "// Listen for the clearing of the current output cell\n",
       "var outputEl = gd.closest('.output');\n",
       "if (outputEl) {{\n",
       "    x.observe(outputEl, {childList: true});\n",
       "}}\n",
       "\n",
       "                        })                };                });            </script>        </div>"
      ]
     },
     "metadata": {},
     "output_type": "display_data"
    }
   ],
   "source": [
    "# Get unique labels and their frequency\n",
    "all_labels = np.array([x for label in labels for x in label])\n",
    "unique_labels, label_counts = np.unique(all_labels, return_counts=True)\n",
    "\n",
    "# Plotting\n",
    "fig = go.Figure(data=go.Bar(x=CFG.labels, y=label_counts))\n",
    "fig.update_layout(\n",
    "    title=\"Label Distribution\",\n",
    "    xaxis_title=\"Labels\",\n",
    "    yaxis_title=\"Count\",\n",
    "    yaxis_type=\"log\",\n",
    ")\n",
    "\n",
    "fig.update_traces(text=label_counts, textposition=\"outside\")\n",
    "fig.show()\n"
   ]
  },
  {
   "cell_type": "markdown",
   "metadata": {},
   "source": [
    "## 🔪 | Data Split\n",
    "\n",
    "In the following code snippet, we will split the dataset into training and testing subsets using an `80%-20%` ratio."
   ]
  },
  {
   "cell_type": "code",
   "execution_count": 16,
   "metadata": {
    "execution": {
     "iopub.execute_input": "2024-04-15T11:15:51.315568Z",
     "iopub.status.busy": "2024-04-15T11:15:51.315206Z",
     "iopub.status.idle": "2024-04-15T11:15:51.324127Z",
     "shell.execute_reply": "2024-04-15T11:15:51.323233Z",
     "shell.execute_reply.started": "2024-04-15T11:15:51.315535Z"
    }
   },
   "outputs": [],
   "source": [
    "# Splitting the data into training and testing sets\n",
    "train_words, valid_words, train_labels, valid_labels = train_test_split(\n",
    "    words, labels, test_size=0.2, random_state=CFG.seed\n",
    ")"
   ]
  },
  {
   "cell_type": "markdown",
   "metadata": {},
   "source": [
    "# 🍽️ | Pre-Processing\n",
    "\n",
    "Initially, raw text data is quite complex and challenging for modeling due to its high dimensionality. We simplify this complexity by converting text into words then more manageable set of tokens using `tokenizers`. For example, transforming the sentence `\"The quick brown fox\"` into tokens like `[\"the\", \"qu\", \"##ick\", \"br\", \"##own\", \"fox\"]` helps us break down the text effectively. Then, since models can't directly process strings, they are converted into integers, like `[10, 23, 40, 51, 90, 84]`. Additionally, many models require special tokens and additional tensors to understand input better. A `preprocessing` layer helps with this by adding these special tokens, which aid in separating input and identifying padding, among other tasks.\n",
    "\n",
    "You can explore the following pages to access the available preprocessing and tokenizer layers in **KerasNLP**:\n",
    "- [Tokenizers](https://keras.io/api/keras_nlp/tokenizers/)\n",
    "- [Preprocessing](https://keras.io/api/keras_nlp/preprocessing_layers/)"
   ]
  },
  {
   "cell_type": "code",
   "execution_count": 17,
   "metadata": {
    "execution": {
     "iopub.execute_input": "2024-04-15T11:15:51.326338Z",
     "iopub.status.busy": "2024-04-15T11:15:51.325448Z",
     "iopub.status.idle": "2024-04-15T11:15:52.778112Z",
     "shell.execute_reply": "2024-04-15T11:15:52.777072Z",
     "shell.execute_reply.started": "2024-04-15T11:15:51.326286Z"
    }
   },
   "outputs": [
    {
     "name": "stderr",
     "output_type": "stream",
     "text": [
      "Attaching 'tokenizer.json' from model 'keras/deberta_v3/keras/deberta_v3_small_en/2' to your Kaggle notebook...\n",
      "Attaching 'tokenizer.json' from model 'keras/deberta_v3/keras/deberta_v3_small_en/2' to your Kaggle notebook...\n",
      "Attaching 'assets/tokenizer/vocabulary.spm' from model 'keras/deberta_v3/keras/deberta_v3_small_en/2' to your Kaggle notebook...\n"
     ]
    }
   ],
   "source": [
    "# To convert string input or list of strings input to numerical tokens\n",
    "tokenizer = keras_nlp.models.DebertaV3Tokenizer.from_preset(\n",
    "    CFG.preset,\n",
    ")\n",
    "\n",
    "# Preprocessing layer to add spetical tokens: [CLS], [SEP], [PAD]\n",
    "packer = keras_nlp.layers.MultiSegmentPacker(\n",
    "    start_value=tokenizer.cls_token_id,\n",
    "    end_value=tokenizer.sep_token_id,\n",
    "    sequence_length=10,\n",
    ")"
   ]
  },
  {
   "cell_type": "markdown",
   "metadata": {},
   "source": [
    "## Tokenizer in Action\n",
    "\n",
    "The following code shows the effects of `DebertaV3Tokenizer`. We can see that the word `[\"reflexion\"]` has been divided into `[\"▁reflex\", \"ion\"]` tokens. Therefore, for similar cases, it's necessary to align labels of tokens to labels of words."
   ]
  },
  {
   "cell_type": "code",
   "execution_count": 18,
   "metadata": {
    "_kg_hide-input": true,
    "execution": {
     "iopub.execute_input": "2024-04-15T11:15:52.779945Z",
     "iopub.status.busy": "2024-04-15T11:15:52.779563Z",
     "iopub.status.idle": "2024-04-15T11:15:53.748741Z",
     "shell.execute_reply": "2024-04-15T11:15:53.747770Z",
     "shell.execute_reply.started": "2024-04-15T11:15:52.779911Z"
    }
   },
   "outputs": [
    {
     "name": "stdout",
     "output_type": "stream",
     "text": [
      "words        : ['Design', 'Thinking', 'for', 'innovation', 'reflexion']\n",
      "tokens (str) : ['▁Design', '▁Thinking', '▁for', '▁innovation', '▁reflex', 'ion']\n",
      "tokens (int) : [2169, 12103, 270, 3513, 28310, 4593]\n"
     ]
    }
   ],
   "source": [
    "sample_words = words[0][:5]\n",
    "sample_tokens_int = [\n",
    "    token.tolist() for word in sample_words for token in tokenizer(word)\n",
    "]\n",
    "sample_tokens_str = [tokenizer.id_to_token(token) for token in sample_tokens_int]\n",
    "\n",
    "print(\"words        :\", sample_words.tolist())\n",
    "print(\"tokens (str) :\", sample_tokens_str)\n",
    "print(\"tokens (int) :\", sample_tokens_int)\n"
   ]
  },
  {
   "cell_type": "markdown",
   "metadata": {},
   "source": [
    "## Preprocessor in Action\n",
    "\n",
    "Even though we converted string inputs to integer tokens with Tokenizer, we are not done yet. We need to add special tokens like `[CLS]`, `[SEP]`, `[PAD]`. This is wehere `Preprocessing` layer comes into the picture. In this notebook, we will use `MultiSegmentPacker` layer. Let's see it action."
   ]
  },
  {
   "cell_type": "code",
   "execution_count": 19,
   "metadata": {
    "_kg_hide-input": true,
    "execution": {
     "iopub.execute_input": "2024-04-15T11:15:53.750114Z",
     "iopub.status.busy": "2024-04-15T11:15:53.749846Z",
     "iopub.status.idle": "2024-04-15T11:15:53.849255Z",
     "shell.execute_reply": "2024-04-15T11:15:53.848114Z",
     "shell.execute_reply.started": "2024-04-15T11:15:53.750092Z"
    }
   },
   "outputs": [
    {
     "name": "stdout",
     "output_type": "stream",
     "text": [
      "tokens (str)        : ['▁Design', '▁Thinking', '▁for', '▁innovation', '▁reflex', 'ion']\n",
      "padded tokens (str) : ['[CLS]', '▁Design', '▁Thinking', '▁for', '▁innovation', '▁reflex', 'ion', '[SEP]', '[PAD]', '[PAD]'] \n",
      "\n",
      "tokens (int)        : [2169, 12103, 270, 3513, 28310, 4593]\n",
      "padded tokens (int) : [1, 2169, 12103, 270, 3513, 28310, 4593, 2, 0, 0]\n"
     ]
    }
   ],
   "source": [
    "padded_sample_tokens_int = packer(np.array(sample_tokens_int))[0].tolist()\n",
    "padded_sample_tokens_str = [\n",
    "    tokenizer.id_to_token(token) for token in padded_sample_tokens_int\n",
    "]\n",
    "\n",
    "print(\"tokens (str)        :\", sample_tokens_str)\n",
    "print(\"padded tokens (str) :\", padded_sample_tokens_str, \"\\n\")\n",
    "\n",
    "print(\"tokens (int)        :\", sample_tokens_int)\n",
    "print(\"padded tokens (int) :\", padded_sample_tokens_int)\n"
   ]
  },
  {
   "cell_type": "markdown",
   "metadata": {},
   "source": [
    "# 🥣 | Data Processing\n",
    "\n",
    "One of the key factors that sets Token Classification apart from Text Classification is the data processing part. Unlike text classification, where we simply send our tokenized text to the model, in token classification, we have to apply more processing before sending it to the model. For example, when the `tokenizer` creates multiple tokens for single word or the `processing` layer adds special tokens `[CLS]`, `[SEP]`, and `[PAD]`, they create a mismatch between the input and labels. Thus, a single word corresponding to a single label may now be split into two tokens. We need to realign the tokens labels with word labels by:\n",
    "\n",
    "- Mapping tokens label to their corresponding word label using `token_ids`.\n",
    "- Assigning the label `-100` to special tokens `[CLS]`, `[SEP]` and `[PAD]` to disregard them in the `CrossEntropy` loss calculation.\n",
    "- Labeling only the first token of each word and assigning `-100` to other tokens belonging to the same word.\n",
    "\n",
    "Specifically, the following cell contains the following functions:\n",
    "- `process_data()` - prepares input, label, and token_ids\n",
    "    - `get_tokens()` - creates input tokens ans padding masks from string words\n",
    "    - `get_token_ids()` - generates token ids for aligning tokens and labels\n",
    "    - `get_token_labels()` - realigns token labels and adds padding (`-100`) to match input\n",
    "    - `process_token_ids()` - adds padding (`-1`) to token ids to match input"
   ]
  },
  {
   "cell_type": "code",
   "execution_count": 20,
   "metadata": {
    "execution": {
     "iopub.execute_input": "2024-04-15T11:15:53.851129Z",
     "iopub.status.busy": "2024-04-15T11:15:53.850743Z",
     "iopub.status.idle": "2024-04-15T11:15:53.867120Z",
     "shell.execute_reply": "2024-04-15T11:15:53.866074Z",
     "shell.execute_reply.started": "2024-04-15T11:15:53.851093Z"
    }
   },
   "outputs": [],
   "source": [
    "def get_tokens(words, seq_len, packer):\n",
    "    # Tokenize input\n",
    "    token_words = tf.expand_dims(\n",
    "        tokenizer(words), axis=-1\n",
    "    )  # ex: (words) [\"It's\", \"a\", \"cat\"] ->  (token_words) [[1, 2], [3], [4]]\n",
    "    tokens = tf.reshape(\n",
    "        token_words, [-1]\n",
    "    )  # ex: (token_words) [[1, 2], [3], [4]] -> (tokens) [1, 2, 3, 4]\n",
    "    # Pad tokens\n",
    "    tokens = packer(tokens)[0][:seq_len]\n",
    "    inputs = {\"token_ids\": tokens, \"padding_mask\": tokens != 0}\n",
    "    return inputs, tokens, token_words\n",
    "\n",
    "\n",
    "def get_token_ids(token_words):\n",
    "    # Get word indices\n",
    "    word_ids = tf.range(tf.shape(token_words)[0])\n",
    "    # Get size of each word\n",
    "    word_size = tf.reshape(tf.map_fn(lambda word: tf.shape(word)[0:1], token_words), [-1])\n",
    "    # Repeat word_id with size of word to get token_id\n",
    "    token_ids = tf.repeat(word_ids, word_size)\n",
    "    return token_ids\n",
    "\n",
    "\n",
    "def get_token_labels(word_labels, token_ids, seq_len):\n",
    "    # Create token_labels from word_labels ->  alignment\n",
    "    token_labels = tf.gather(word_labels, token_ids)\n",
    "    # Only label the first token of a given word and assign -100 to others\n",
    "    mask = tf.concat([[True], token_ids[1:] != token_ids[:-1]], axis=0)\n",
    "    token_labels = tf.where(mask, token_labels, -100)\n",
    "    # Truncate to max sequence length\n",
    "    token_labels = token_labels[: seq_len - 2]  # -2 for special tokens ([CLS], [SEP])\n",
    "    # Pad token_labels to align with tokens (use -100 to pad for loss/metric ignore)\n",
    "    pad_start = 1  # for [CLS] token\n",
    "    pad_end = seq_len - tf.shape(token_labels)[0] - 1  # for [SEP] and [PAD] tokens\n",
    "    token_labels = tf.pad(token_labels, [[pad_start, pad_end]], constant_values=-100)\n",
    "    return token_labels\n",
    "\n",
    "\n",
    "def process_token_ids(token_ids, seq_len):\n",
    "    # Truncate to max sequence length\n",
    "    token_ids = token_ids[: seq_len - 2]  # -2 for special tokens ([CLS], [SEP])\n",
    "    # Pad token_ids to align with tokens (use -1 to pad for later identification)\n",
    "    pad_start = 1  # [CLS] token\n",
    "    pad_end = seq_len - tf.shape(token_ids)[0] - 1  # [SEP] and [PAD] tokens\n",
    "    token_ids = tf.pad(token_ids, [[pad_start, pad_end]], constant_values=-1)\n",
    "    return token_ids\n",
    "\n",
    "\n",
    "def process_data(seq_len=720, has_label=True, return_ids=False):\n",
    "    # To add spetical tokens: [CLS], [SEP], [PAD]\n",
    "    packer = keras_nlp.layers.MultiSegmentPacker(\n",
    "        start_value=tokenizer.cls_token_id,\n",
    "        end_value=tokenizer.sep_token_id,\n",
    "        sequence_length=seq_len,\n",
    "    )\n",
    "\n",
    "    def process(x):\n",
    "        # Generate inputs from tokens\n",
    "        inputs, tokens, words_int = get_tokens(x[\"words\"], seq_len, packer)\n",
    "        # Generate token_ids for maping tokens to words\n",
    "        token_ids = get_token_ids(words_int)\n",
    "        if has_label:\n",
    "            # Generate token_labels from word_labels\n",
    "            token_labels = get_token_labels(x[\"labels\"], token_ids, seq_len)\n",
    "            return inputs, token_labels\n",
    "        elif return_ids:\n",
    "            # Pad token_ids to align with tokens\n",
    "            token_ids = process_token_ids(token_ids, seq_len)\n",
    "            return token_ids\n",
    "        else:\n",
    "            return inputs\n",
    "\n",
    "    return process"
   ]
  },
  {
   "cell_type": "markdown",
   "metadata": {},
   "source": [
    "# 🍚 | Dataloader\n",
    "\n",
    "The code below sets up a data flow pipeline using `tf.data.Dataset` for data processing. Notable aspects of `tf.data` include its ability to simplify pipeline construction and represent components in sequences. To learn more about `tf.data`, refer to this [documentation](https://www.tensorflow.org/guide/data).\n",
    "\n",
    "> **Note**: We have used `ragged` tensor as each row has text with different sizes."
   ]
  },
  {
   "cell_type": "code",
   "execution_count": 21,
   "metadata": {
    "execution": {
     "iopub.execute_input": "2024-04-15T11:15:53.868815Z",
     "iopub.status.busy": "2024-04-15T11:15:53.868435Z",
     "iopub.status.idle": "2024-04-15T11:15:53.879742Z",
     "shell.execute_reply": "2024-04-15T11:15:53.878866Z",
     "shell.execute_reply.started": "2024-04-15T11:15:53.868783Z"
    }
   },
   "outputs": [],
   "source": [
    "def build_dataset(words, labels=None, return_ids=False, batch_size=4,\n",
    "                  seq_len=512, shuffle=False, cache=True, drop_remainder=True):\n",
    "    AUTO = tf.data.AUTOTUNE \n",
    "\n",
    "    slices = {\"words\": tf.ragged.constant(words)}\n",
    "    if labels is not None:\n",
    "        slices.update({\"labels\": tf.ragged.constant(labels)})\n",
    "\n",
    "    ds = tf.data.Dataset.from_tensor_slices(slices)\n",
    "    ds = ds.map(process_data(seq_len=seq_len,\n",
    "                             has_label=labels is not None, \n",
    "                             return_ids=return_ids), num_parallel_calls=AUTO) # apply processing\n",
    "    ds = ds.cache() if cache else ds  # cache dataset\n",
    "    if shuffle: # shuffle dataset\n",
    "        ds = ds.shuffle(1024, seed=CFG.seed)  \n",
    "        opt = tf.data.Options() \n",
    "        opt.experimental_deterministic = False\n",
    "        ds = ds.with_options(opt)\n",
    "    ds = ds.batch(batch_size, drop_remainder=drop_remainder)  # batch dataset\n",
    "    ds = ds.prefetch(AUTO)  # prefetch next batch\n",
    "    return ds"
   ]
  },
  {
   "cell_type": "markdown",
   "metadata": {},
   "source": [
    "## Build Train & Valid Dataloader\n",
    "\n",
    "In the following code, we'll create **train** and **valid** data loaders."
   ]
  },
  {
   "cell_type": "code",
   "execution_count": 22,
   "metadata": {
    "execution": {
     "iopub.execute_input": "2024-04-15T11:15:53.881395Z",
     "iopub.status.busy": "2024-04-15T11:15:53.881030Z",
     "iopub.status.idle": "2024-04-15T11:16:47.456008Z",
     "shell.execute_reply": "2024-04-15T11:16:47.455208Z",
     "shell.execute_reply.started": "2024-04-15T11:15:53.881362Z"
    }
   },
   "outputs": [],
   "source": [
    "train_ds = build_dataset(train_words, train_labels,  batch_size=CFG.train_batch_size,\n",
    "                         seq_len=CFG.train_seq_len, shuffle=True)\n",
    "\n",
    "valid_ds = build_dataset(valid_words, valid_labels, batch_size=CFG.train_batch_size, \n",
    "                         seq_len=CFG.train_seq_len, shuffle=False)"
   ]
  },
  {
   "cell_type": "markdown",
   "metadata": {},
   "source": [
    "## Dataset Check\n",
    "\n",
    "Let's check a batch of samples and their associated labels from the dataset."
   ]
  },
  {
   "cell_type": "code",
   "execution_count": 23,
   "metadata": {
    "execution": {
     "iopub.execute_input": "2024-04-15T11:16:47.457476Z",
     "iopub.status.busy": "2024-04-15T11:16:47.457180Z",
     "iopub.status.idle": "2024-04-15T11:16:48.082941Z",
     "shell.execute_reply": "2024-04-15T11:16:48.081913Z",
     "shell.execute_reply.started": "2024-04-15T11:16:47.457451Z"
    }
   },
   "outputs": [
    {
     "name": "stdout",
     "output_type": "stream",
     "text": [
      "# Input:\n",
      " {'token_ids': <tf.Tensor: shape=(16, 1024), dtype=int32, numpy=\n",
      "array([[    1, 28525,   877, ...,     0,     0,     0],\n",
      "       [    1,  6738,   877, ...,     0,     0,     0],\n",
      "       [    1, 45730,   377, ...,     0,     0,     0],\n",
      "       ...,\n",
      "       [    1,   573,   601, ...,     0,     0,     0],\n",
      "       [    1,   463,   266, ...,     0,     0,     0],\n",
      "       [    1,  6738,   429, ...,   262,  1377,     2]], dtype=int32)>, 'padding_mask': <tf.Tensor: shape=(16, 1024), dtype=bool, numpy=\n",
      "array([[ True,  True,  True, ..., False, False, False],\n",
      "       [ True,  True,  True, ..., False, False, False],\n",
      "       [ True,  True,  True, ..., False, False, False],\n",
      "       ...,\n",
      "       [ True,  True,  True, ..., False, False, False],\n",
      "       [ True,  True,  True, ..., False, False, False],\n",
      "       [ True,  True,  True, ...,  True,  True,  True]])>}\n",
      "\n",
      "# Labels:\n",
      " tf.Tensor(\n",
      "[[-100   12   12 ... -100 -100 -100]\n",
      " [-100   12   12 ... -100 -100 -100]\n",
      " [-100   12   12 ... -100 -100 -100]\n",
      " ...\n",
      " [-100   12   12 ... -100 -100 -100]\n",
      " [-100   12   12 ... -100 -100 -100]\n",
      " [-100   12   12 ...   12   12 -100]], shape=(16, 1024), dtype=int32)\n"
     ]
    }
   ],
   "source": [
    "inp, tar = next(iter(valid_ds))\n",
    "print(\"# Input:\\n\",inp); print(\"\\n# Labels:\\n\",tar)"
   ]
  },
  {
   "cell_type": "markdown",
   "metadata": {},
   "source": [
    "# 🔍 | Loss & Metric"
   ]
  },
  {
   "cell_type": "markdown",
   "metadata": {},
   "source": [
    "## Loss: CrossEntropy\n",
    "\n",
    "To optimize our model we will use `CrossEntropy` loss, also known as log loss. It is defined as:\n",
    "\n",
    "$$\n",
    "\\text{CrossEntropy} = - \\frac{1}{N} \\sum_{i=1}^{N} \\left[ y_i \\log(\\hat{y}_i) + (1 - y_i) \\log(1 - \\hat{y}_i) \\right]\n",
    "$$\n",
    "\n",
    "Where:\n",
    "- $N$ is the number of samples.\n",
    "- $y_i$ is the true label of the $i^{th}$ sample.\n",
    "- $\\hat{y}_i$ is the predicted probability of the $i^{th}$ sample being in the positive class.\n",
    "\n",
    "> **Note**: We will not compute loss for `ignore_class` which indicates special tokens (`[CLS]`, `[SEP]`, `[PAD]`) or intermediate token of a word."
   ]
  },
  {
   "cell_type": "code",
   "execution_count": 24,
   "metadata": {
    "execution": {
     "iopub.execute_input": "2024-04-15T11:16:48.085166Z",
     "iopub.status.busy": "2024-04-15T11:16:48.084744Z",
     "iopub.status.idle": "2024-04-15T11:16:48.095212Z",
     "shell.execute_reply": "2024-04-15T11:16:48.094243Z",
     "shell.execute_reply.started": "2024-04-15T11:16:48.085128Z"
    }
   },
   "outputs": [],
   "source": [
    "class CrossEntropy(keras.losses.SparseCategoricalCrossentropy):\n",
    "    def __init__(self, ignore_class=-100, reduction=None, **args):\n",
    "        super().__init__(reduction=reduction, **args)\n",
    "        self.ignore_class = ignore_class\n",
    "\n",
    "    def call(self, y_true, y_pred):\n",
    "        y_true = ops.reshape(y_true, [-1])\n",
    "        y_pred = ops.reshape(y_pred, [-1, CFG.num_labels])\n",
    "        loss = super().call(y_true, y_pred)\n",
    "        if self.ignore_class is not None:\n",
    "            valid_mask = ops.not_equal(\n",
    "                y_true, ops.cast(self.ignore_class, y_pred.dtype)\n",
    "            )\n",
    "            loss = ops.where(valid_mask, loss, 0.0)\n",
    "            loss = ops.sum(loss)\n",
    "            loss /= ops.maximum(ops.sum(ops.cast(valid_mask, loss.dtype)), 1)\n",
    "        else:\n",
    "            loss = ops.mean(loss)\n",
    "        return loss\n"
   ]
  },
  {
   "cell_type": "markdown",
   "metadata": {},
   "source": [
    "## Metric: FBetaScore ($\\beta = 5$)\n",
    "\n",
    "The competition metric is $F^\\beta$, which combines precision and recall, weighted by a parameter $\\beta = 5$. It is defined as:\n",
    "\n",
    "$$\n",
    "\\text{FBetaScore} = (1 + \\beta^2) \\times \\frac{\\text{Precision} \\times \\text{Recall}}{\\beta^2 \\times \\text{Precision} + \\text{Recall}}\n",
    "$$\n",
    "\n",
    "Where:\n",
    "- Precision $= \\frac{\\text{True Positives}}{\\text{True Positives} + \\text{False Positives}}$\n",
    "- Recall $= \\frac{\\text{True Positives}}{\\text{True Positives} + \\text{False Negatives}}$\n",
    "- $\\beta$ controls the weighting between precision and recall. As in this competition, $\\beta = 5$, it means more weight is given to recall. In other words, **metric will penalize more, if a positive token is classified as negative**.\n",
    "\n",
    "> **Note${}^1$**: The competition will use `micro` averaging for the `FBetaScore`, considering total counts across all classes, which is influenced by class imbalances. The `macro` averaging treats each class equally, regardless of frequency. Organizers may want models that perform well on predicting more common PII tags.\n",
    "\n",
    "> **Note${}^2$**: We will not compute the metric for `ignore_classes`, which indicates special tokens (`[CLS]`, `[SEP]`, `[PAD]`) or non-start tokens of a word or `O` (Outer) labels."
   ]
  },
  {
   "cell_type": "code",
   "execution_count": 25,
   "metadata": {
    "execution": {
     "iopub.execute_input": "2024-04-15T11:16:48.096912Z",
     "iopub.status.busy": "2024-04-15T11:16:48.096506Z",
     "iopub.status.idle": "2024-04-15T11:16:48.111638Z",
     "shell.execute_reply": "2024-04-15T11:16:48.110750Z",
     "shell.execute_reply.started": "2024-04-15T11:16:48.096877Z"
    }
   },
   "outputs": [],
   "source": [
    "class FBetaScore(keras.metrics.FBetaScore):\n",
    "    def __init__(self, ignore_classes=[-100, 12], average=\"micro\", beta=5.0,\n",
    "                 name=\"f5_score\", **args):\n",
    "        super().__init__(beta=beta, average=average, name=name, **args)\n",
    "        self.ignore_classes = ignore_classes or []\n",
    "\n",
    "    def update_state(self, y_true, y_pred, sample_weight=None):\n",
    "        y_true = ops.convert_to_tensor(y_true, dtype=self.dtype)\n",
    "        y_pred = ops.convert_to_tensor(y_pred, dtype=self.dtype)\n",
    "        \n",
    "        y_true = ops.reshape(y_true, [-1])\n",
    "        y_pred = ops.reshape(y_pred, [-1, CFG.num_labels])\n",
    "            \n",
    "        valid_mask = ops.ones_like(y_true, dtype=self.dtype)\n",
    "        if self.ignore_classes:\n",
    "            for ignore_class in self.ignore_classes:\n",
    "                valid_mask &= ops.not_equal(y_true, ops.cast(ignore_class, y_pred.dtype))\n",
    "        valid_mask = ops.expand_dims(valid_mask, axis=-1)\n",
    "        \n",
    "        y_true = ops.one_hot(y_true, CFG.num_labels)\n",
    "        \n",
    "        if not self._built:\n",
    "            self._build(y_true.shape, y_pred.shape)\n",
    "\n",
    "        threshold = ops.max(y_pred, axis=-1, keepdims=True)\n",
    "        y_pred = ops.logical_and(\n",
    "            y_pred >= threshold, ops.abs(y_pred) > 1e-9\n",
    "        )\n",
    "\n",
    "        y_pred = ops.cast(y_pred, dtype=self.dtype)\n",
    "        y_true = ops.cast(y_true, dtype=self.dtype)\n",
    "        \n",
    "        tp = ops.sum(y_pred * y_true * valid_mask, self.axis)\n",
    "        fp = ops.sum(y_pred * (1 - y_true) * valid_mask, self.axis)\n",
    "        fn = ops.sum((1 - y_pred) * y_true * valid_mask, self.axis)\n",
    "            \n",
    "        self.true_positives.assign_add(tp)\n",
    "        self.false_positives.assign_add(fp)\n",
    "        self.false_negatives.assign_add(fn)"
   ]
  },
  {
   "cell_type": "markdown",
   "metadata": {},
   "source": [
    "# 🤖 | Modeling\n",
    "\n",
    "In this notebook, we will use the `DebertaV3` backbone from KerasNLP's pretrained models to extract features of tokens and employ `Dense` layers for token-level classification. Unlike Text Classification, transformer outputs are not pooled; instead, a `Dense` layer is applied to the outputs to obtain predictions.\n",
    "\n",
    "To clarify, the output of the transformer model is a 3D tensor of shape $(batch\\_size, seq\\_len, feat\\_dim)$, where only the $feat\\_dim$ is changed, while the others remain the same. Subsequently, the `Dense` (or `Linear`) layer maps the `feat_dim` to `num_labels` and then applies a `softmax` activation to get the final prediction.\n",
    "\n",
    "To explore other backbones, simply modify the `preset` in the `CFG` (config). A list of available pretrained backbones can be found on the [KerasNLP website](https://keras.io/api/keras_nlp/models/).\n",
    "\n",
    "> **Note:** The output `dtype` of the final activation is manually set to `float32` to facilitate `mixed_precision`.\n",
    "\n",
    "<u>Food for thought</u>: \n",
    "1. Some may wonder why the input to the `Dense` layer is 3D `(batch_size, d0, d1)` instead of the traditional 2D `(batch_size, d0)`. You can check [Hint: you can check this page](https://keras.io/api/layers/core_layers/dense/).\n",
    "2. We are training our model with sequence of `1024` length, however we are doing inference with sequence of `2000` length. What is happening here?"
   ]
  },
  {
   "cell_type": "code",
   "execution_count": 26,
   "metadata": {
    "execution": {
     "iopub.execute_input": "2024-04-15T11:16:48.113172Z",
     "iopub.status.busy": "2024-04-15T11:16:48.112838Z",
     "iopub.status.idle": "2024-04-15T11:16:58.806474Z",
     "shell.execute_reply": "2024-04-15T11:16:58.805402Z",
     "shell.execute_reply.started": "2024-04-15T11:16:48.113147Z"
    }
   },
   "outputs": [
    {
     "name": "stderr",
     "output_type": "stream",
     "text": [
      "Attaching 'config.json' from model 'keras/deberta_v3/keras/deberta_v3_small_en/2' to your Kaggle notebook...\n",
      "Attaching 'config.json' from model 'keras/deberta_v3/keras/deberta_v3_small_en/2' to your Kaggle notebook...\n",
      "Attaching 'model.weights.h5' from model 'keras/deberta_v3/keras/deberta_v3_small_en/2' to your Kaggle notebook...\n"
     ]
    },
    {
     "data": {
      "text/html": [
       "<pre style=\"white-space:pre;overflow-x:auto;line-height:normal;font-family:Menlo,'DejaVu Sans Mono',consolas,'Courier New',monospace\"><span style=\"font-weight: bold\">Model: \"functional_1\"</span>\n",
       "</pre>\n"
      ],
      "text/plain": [
       "\u001b[1mModel: \"functional_1\"\u001b[0m\n"
      ]
     },
     "metadata": {},
     "output_type": "display_data"
    },
    {
     "data": {
      "text/html": [
       "<pre style=\"white-space:pre;overflow-x:auto;line-height:normal;font-family:Menlo,'DejaVu Sans Mono',consolas,'Courier New',monospace\">┏━━━━━━━━━━━━━━━━━━━━━┳━━━━━━━━━━━━━━━━━━━┳━━━━━━━━━┳━━━━━━━━━━━━━━━━━━━━━━┓\n",
       "┃<span style=\"font-weight: bold\"> Layer (type)        </span>┃<span style=\"font-weight: bold\"> Output Shape      </span>┃<span style=\"font-weight: bold\"> Param # </span>┃<span style=\"font-weight: bold\"> Connected to         </span>┃\n",
       "┡━━━━━━━━━━━━━━━━━━━━━╇━━━━━━━━━━━━━━━━━━━╇━━━━━━━━━╇━━━━━━━━━━━━━━━━━━━━━━┩\n",
       "│ token_ids           │ (<span style=\"color: #00d7ff; text-decoration-color: #00d7ff\">None</span>, <span style=\"color: #00d7ff; text-decoration-color: #00d7ff\">None</span>)      │       <span style=\"color: #00af00; text-decoration-color: #00af00\">0</span> │ -                    │\n",
       "│ (<span style=\"color: #0087ff; text-decoration-color: #0087ff\">InputLayer</span>)        │                   │         │                      │\n",
       "├─────────────────────┼───────────────────┼─────────┼──────────────────────┤\n",
       "│ token_embedding     │ (<span style=\"color: #00d7ff; text-decoration-color: #00d7ff\">None</span>, <span style=\"color: #00d7ff; text-decoration-color: #00d7ff\">None</span>, <span style=\"color: #00af00; text-decoration-color: #00af00\">768</span>) │ <span style=\"color: #00af00; text-decoration-color: #00af00\">98,380…</span> │ token_ids[<span style=\"color: #00af00; text-decoration-color: #00af00\">0</span>][<span style=\"color: #00af00; text-decoration-color: #00af00\">0</span>]      │\n",
       "│ (<span style=\"color: #0087ff; text-decoration-color: #0087ff\">ReversibleEmbeddi…</span> │                   │         │                      │\n",
       "├─────────────────────┼───────────────────┼─────────┼──────────────────────┤\n",
       "│ embeddings_layer_n… │ (<span style=\"color: #00d7ff; text-decoration-color: #00d7ff\">None</span>, <span style=\"color: #00d7ff; text-decoration-color: #00d7ff\">None</span>, <span style=\"color: #00af00; text-decoration-color: #00af00\">768</span>) │   <span style=\"color: #00af00; text-decoration-color: #00af00\">1,536</span> │ token_embedding[<span style=\"color: #00af00; text-decoration-color: #00af00\">0</span>][<span style=\"color: #00af00; text-decoration-color: #00af00\">…</span> │\n",
       "│ (<span style=\"color: #0087ff; text-decoration-color: #0087ff\">LayerNormalizatio…</span> │                   │         │                      │\n",
       "├─────────────────────┼───────────────────┼─────────┼──────────────────────┤\n",
       "│ embeddings_dropout  │ (<span style=\"color: #00d7ff; text-decoration-color: #00d7ff\">None</span>, <span style=\"color: #00d7ff; text-decoration-color: #00d7ff\">None</span>, <span style=\"color: #00af00; text-decoration-color: #00af00\">768</span>) │       <span style=\"color: #00af00; text-decoration-color: #00af00\">0</span> │ embeddings_layer_no… │\n",
       "│ (<span style=\"color: #0087ff; text-decoration-color: #0087ff\">Dropout</span>)           │                   │         │                      │\n",
       "├─────────────────────┼───────────────────┼─────────┼──────────────────────┤\n",
       "│ padding_mask        │ (<span style=\"color: #00d7ff; text-decoration-color: #00d7ff\">None</span>, <span style=\"color: #00d7ff; text-decoration-color: #00d7ff\">None</span>)      │       <span style=\"color: #00af00; text-decoration-color: #00af00\">0</span> │ -                    │\n",
       "│ (<span style=\"color: #0087ff; text-decoration-color: #0087ff\">InputLayer</span>)        │                   │         │                      │\n",
       "├─────────────────────┼───────────────────┼─────────┼──────────────────────┤\n",
       "│ rel_embedding       │ (<span style=\"color: #00d7ff; text-decoration-color: #00d7ff\">None</span>, <span style=\"color: #00af00; text-decoration-color: #00af00\">512</span>, <span style=\"color: #00af00; text-decoration-color: #00af00\">768</span>)  │ <span style=\"color: #00af00; text-decoration-color: #00af00\">394,752</span> │ embeddings_dropout[<span style=\"color: #00af00; text-decoration-color: #00af00\">…</span> │\n",
       "│ (<span style=\"color: #0087ff; text-decoration-color: #0087ff\">RelativeEmbedding</span>) │                   │         │                      │\n",
       "├─────────────────────┼───────────────────┼─────────┼──────────────────────┤\n",
       "│ disentangled_atten… │ (<span style=\"color: #00d7ff; text-decoration-color: #00d7ff\">None</span>, <span style=\"color: #00d7ff; text-decoration-color: #00d7ff\">None</span>, <span style=\"color: #00af00; text-decoration-color: #00af00\">768</span>) │ <span style=\"color: #00af00; text-decoration-color: #00af00\">7,087,…</span> │ embeddings_dropout[<span style=\"color: #00af00; text-decoration-color: #00af00\">…</span> │\n",
       "│ (<span style=\"color: #0087ff; text-decoration-color: #0087ff\">DisentangledAtten…</span> │                   │         │ padding_mask[<span style=\"color: #00af00; text-decoration-color: #00af00\">0</span>][<span style=\"color: #00af00; text-decoration-color: #00af00\">0</span>],  │\n",
       "│                     │                   │         │ rel_embedding[<span style=\"color: #00af00; text-decoration-color: #00af00\">0</span>][<span style=\"color: #00af00; text-decoration-color: #00af00\">0</span>]  │\n",
       "├─────────────────────┼───────────────────┼─────────┼──────────────────────┤\n",
       "│ disentangled_atten… │ (<span style=\"color: #00d7ff; text-decoration-color: #00d7ff\">None</span>, <span style=\"color: #00d7ff; text-decoration-color: #00d7ff\">None</span>, <span style=\"color: #00af00; text-decoration-color: #00af00\">768</span>) │ <span style=\"color: #00af00; text-decoration-color: #00af00\">7,087,…</span> │ disentangled_attent… │\n",
       "│ (<span style=\"color: #0087ff; text-decoration-color: #0087ff\">DisentangledAtten…</span> │                   │         │ padding_mask[<span style=\"color: #00af00; text-decoration-color: #00af00\">0</span>][<span style=\"color: #00af00; text-decoration-color: #00af00\">0</span>],  │\n",
       "│                     │                   │         │ rel_embedding[<span style=\"color: #00af00; text-decoration-color: #00af00\">0</span>][<span style=\"color: #00af00; text-decoration-color: #00af00\">0</span>]  │\n",
       "├─────────────────────┼───────────────────┼─────────┼──────────────────────┤\n",
       "│ disentangled_atten… │ (<span style=\"color: #00d7ff; text-decoration-color: #00d7ff\">None</span>, <span style=\"color: #00d7ff; text-decoration-color: #00d7ff\">None</span>, <span style=\"color: #00af00; text-decoration-color: #00af00\">768</span>) │ <span style=\"color: #00af00; text-decoration-color: #00af00\">7,087,…</span> │ disentangled_attent… │\n",
       "│ (<span style=\"color: #0087ff; text-decoration-color: #0087ff\">DisentangledAtten…</span> │                   │         │ padding_mask[<span style=\"color: #00af00; text-decoration-color: #00af00\">0</span>][<span style=\"color: #00af00; text-decoration-color: #00af00\">0</span>],  │\n",
       "│                     │                   │         │ rel_embedding[<span style=\"color: #00af00; text-decoration-color: #00af00\">0</span>][<span style=\"color: #00af00; text-decoration-color: #00af00\">0</span>]  │\n",
       "├─────────────────────┼───────────────────┼─────────┼──────────────────────┤\n",
       "│ disentangled_atten… │ (<span style=\"color: #00d7ff; text-decoration-color: #00d7ff\">None</span>, <span style=\"color: #00d7ff; text-decoration-color: #00d7ff\">None</span>, <span style=\"color: #00af00; text-decoration-color: #00af00\">768</span>) │ <span style=\"color: #00af00; text-decoration-color: #00af00\">7,087,…</span> │ disentangled_attent… │\n",
       "│ (<span style=\"color: #0087ff; text-decoration-color: #0087ff\">DisentangledAtten…</span> │                   │         │ padding_mask[<span style=\"color: #00af00; text-decoration-color: #00af00\">0</span>][<span style=\"color: #00af00; text-decoration-color: #00af00\">0</span>],  │\n",
       "│                     │                   │         │ rel_embedding[<span style=\"color: #00af00; text-decoration-color: #00af00\">0</span>][<span style=\"color: #00af00; text-decoration-color: #00af00\">0</span>]  │\n",
       "├─────────────────────┼───────────────────┼─────────┼──────────────────────┤\n",
       "│ disentangled_atten… │ (<span style=\"color: #00d7ff; text-decoration-color: #00d7ff\">None</span>, <span style=\"color: #00d7ff; text-decoration-color: #00d7ff\">None</span>, <span style=\"color: #00af00; text-decoration-color: #00af00\">768</span>) │ <span style=\"color: #00af00; text-decoration-color: #00af00\">7,087,…</span> │ disentangled_attent… │\n",
       "│ (<span style=\"color: #0087ff; text-decoration-color: #0087ff\">DisentangledAtten…</span> │                   │         │ padding_mask[<span style=\"color: #00af00; text-decoration-color: #00af00\">0</span>][<span style=\"color: #00af00; text-decoration-color: #00af00\">0</span>],  │\n",
       "│                     │                   │         │ rel_embedding[<span style=\"color: #00af00; text-decoration-color: #00af00\">0</span>][<span style=\"color: #00af00; text-decoration-color: #00af00\">0</span>]  │\n",
       "├─────────────────────┼───────────────────┼─────────┼──────────────────────┤\n",
       "│ disentangled_atten… │ (<span style=\"color: #00d7ff; text-decoration-color: #00d7ff\">None</span>, <span style=\"color: #00d7ff; text-decoration-color: #00d7ff\">None</span>, <span style=\"color: #00af00; text-decoration-color: #00af00\">768</span>) │ <span style=\"color: #00af00; text-decoration-color: #00af00\">7,087,…</span> │ disentangled_attent… │\n",
       "│ (<span style=\"color: #0087ff; text-decoration-color: #0087ff\">DisentangledAtten…</span> │                   │         │ padding_mask[<span style=\"color: #00af00; text-decoration-color: #00af00\">0</span>][<span style=\"color: #00af00; text-decoration-color: #00af00\">0</span>],  │\n",
       "│                     │                   │         │ rel_embedding[<span style=\"color: #00af00; text-decoration-color: #00af00\">0</span>][<span style=\"color: #00af00; text-decoration-color: #00af00\">0</span>]  │\n",
       "├─────────────────────┼───────────────────┼─────────┼──────────────────────┤\n",
       "│ logits (<span style=\"color: #0087ff; text-decoration-color: #0087ff\">Dense</span>)      │ (<span style=\"color: #00d7ff; text-decoration-color: #00d7ff\">None</span>, <span style=\"color: #00d7ff; text-decoration-color: #00d7ff\">None</span>, <span style=\"color: #00af00; text-decoration-color: #00af00\">13</span>)  │   <span style=\"color: #00af00; text-decoration-color: #00af00\">9,997</span> │ disentangled_attent… │\n",
       "├─────────────────────┼───────────────────┼─────────┼──────────────────────┤\n",
       "│ prediction          │ (<span style=\"color: #00d7ff; text-decoration-color: #00d7ff\">None</span>, <span style=\"color: #00d7ff; text-decoration-color: #00d7ff\">None</span>, <span style=\"color: #00af00; text-decoration-color: #00af00\">13</span>)  │       <span style=\"color: #00af00; text-decoration-color: #00af00\">0</span> │ logits[<span style=\"color: #00af00; text-decoration-color: #00af00\">0</span>][<span style=\"color: #00af00; text-decoration-color: #00af00\">0</span>]         │\n",
       "│ (<span style=\"color: #0087ff; text-decoration-color: #0087ff\">Activation</span>)        │                   │         │                      │\n",
       "└─────────────────────┴───────────────────┴─────────┴──────────────────────┘\n",
       "</pre>\n"
      ],
      "text/plain": [
       "┏━━━━━━━━━━━━━━━━━━━━━┳━━━━━━━━━━━━━━━━━━━┳━━━━━━━━━┳━━━━━━━━━━━━━━━━━━━━━━┓\n",
       "┃\u001b[1m \u001b[0m\u001b[1mLayer (type)       \u001b[0m\u001b[1m \u001b[0m┃\u001b[1m \u001b[0m\u001b[1mOutput Shape     \u001b[0m\u001b[1m \u001b[0m┃\u001b[1m \u001b[0m\u001b[1mParam #\u001b[0m\u001b[1m \u001b[0m┃\u001b[1m \u001b[0m\u001b[1mConnected to        \u001b[0m\u001b[1m \u001b[0m┃\n",
       "┡━━━━━━━━━━━━━━━━━━━━━╇━━━━━━━━━━━━━━━━━━━╇━━━━━━━━━╇━━━━━━━━━━━━━━━━━━━━━━┩\n",
       "│ token_ids           │ (\u001b[38;5;45mNone\u001b[0m, \u001b[38;5;45mNone\u001b[0m)      │       \u001b[38;5;34m0\u001b[0m │ -                    │\n",
       "│ (\u001b[38;5;33mInputLayer\u001b[0m)        │                   │         │                      │\n",
       "├─────────────────────┼───────────────────┼─────────┼──────────────────────┤\n",
       "│ token_embedding     │ (\u001b[38;5;45mNone\u001b[0m, \u001b[38;5;45mNone\u001b[0m, \u001b[38;5;34m768\u001b[0m) │ \u001b[38;5;34m98,380…\u001b[0m │ token_ids[\u001b[38;5;34m0\u001b[0m][\u001b[38;5;34m0\u001b[0m]      │\n",
       "│ (\u001b[38;5;33mReversibleEmbeddi…\u001b[0m │                   │         │                      │\n",
       "├─────────────────────┼───────────────────┼─────────┼──────────────────────┤\n",
       "│ embeddings_layer_n… │ (\u001b[38;5;45mNone\u001b[0m, \u001b[38;5;45mNone\u001b[0m, \u001b[38;5;34m768\u001b[0m) │   \u001b[38;5;34m1,536\u001b[0m │ token_embedding[\u001b[38;5;34m0\u001b[0m][\u001b[38;5;34m…\u001b[0m │\n",
       "│ (\u001b[38;5;33mLayerNormalizatio…\u001b[0m │                   │         │                      │\n",
       "├─────────────────────┼───────────────────┼─────────┼──────────────────────┤\n",
       "│ embeddings_dropout  │ (\u001b[38;5;45mNone\u001b[0m, \u001b[38;5;45mNone\u001b[0m, \u001b[38;5;34m768\u001b[0m) │       \u001b[38;5;34m0\u001b[0m │ embeddings_layer_no… │\n",
       "│ (\u001b[38;5;33mDropout\u001b[0m)           │                   │         │                      │\n",
       "├─────────────────────┼───────────────────┼─────────┼──────────────────────┤\n",
       "│ padding_mask        │ (\u001b[38;5;45mNone\u001b[0m, \u001b[38;5;45mNone\u001b[0m)      │       \u001b[38;5;34m0\u001b[0m │ -                    │\n",
       "│ (\u001b[38;5;33mInputLayer\u001b[0m)        │                   │         │                      │\n",
       "├─────────────────────┼───────────────────┼─────────┼──────────────────────┤\n",
       "│ rel_embedding       │ (\u001b[38;5;45mNone\u001b[0m, \u001b[38;5;34m512\u001b[0m, \u001b[38;5;34m768\u001b[0m)  │ \u001b[38;5;34m394,752\u001b[0m │ embeddings_dropout[\u001b[38;5;34m…\u001b[0m │\n",
       "│ (\u001b[38;5;33mRelativeEmbedding\u001b[0m) │                   │         │                      │\n",
       "├─────────────────────┼───────────────────┼─────────┼──────────────────────┤\n",
       "│ disentangled_atten… │ (\u001b[38;5;45mNone\u001b[0m, \u001b[38;5;45mNone\u001b[0m, \u001b[38;5;34m768\u001b[0m) │ \u001b[38;5;34m7,087,…\u001b[0m │ embeddings_dropout[\u001b[38;5;34m…\u001b[0m │\n",
       "│ (\u001b[38;5;33mDisentangledAtten…\u001b[0m │                   │         │ padding_mask[\u001b[38;5;34m0\u001b[0m][\u001b[38;5;34m0\u001b[0m],  │\n",
       "│                     │                   │         │ rel_embedding[\u001b[38;5;34m0\u001b[0m][\u001b[38;5;34m0\u001b[0m]  │\n",
       "├─────────────────────┼───────────────────┼─────────┼──────────────────────┤\n",
       "│ disentangled_atten… │ (\u001b[38;5;45mNone\u001b[0m, \u001b[38;5;45mNone\u001b[0m, \u001b[38;5;34m768\u001b[0m) │ \u001b[38;5;34m7,087,…\u001b[0m │ disentangled_attent… │\n",
       "│ (\u001b[38;5;33mDisentangledAtten…\u001b[0m │                   │         │ padding_mask[\u001b[38;5;34m0\u001b[0m][\u001b[38;5;34m0\u001b[0m],  │\n",
       "│                     │                   │         │ rel_embedding[\u001b[38;5;34m0\u001b[0m][\u001b[38;5;34m0\u001b[0m]  │\n",
       "├─────────────────────┼───────────────────┼─────────┼──────────────────────┤\n",
       "│ disentangled_atten… │ (\u001b[38;5;45mNone\u001b[0m, \u001b[38;5;45mNone\u001b[0m, \u001b[38;5;34m768\u001b[0m) │ \u001b[38;5;34m7,087,…\u001b[0m │ disentangled_attent… │\n",
       "│ (\u001b[38;5;33mDisentangledAtten…\u001b[0m │                   │         │ padding_mask[\u001b[38;5;34m0\u001b[0m][\u001b[38;5;34m0\u001b[0m],  │\n",
       "│                     │                   │         │ rel_embedding[\u001b[38;5;34m0\u001b[0m][\u001b[38;5;34m0\u001b[0m]  │\n",
       "├─────────────────────┼───────────────────┼─────────┼──────────────────────┤\n",
       "│ disentangled_atten… │ (\u001b[38;5;45mNone\u001b[0m, \u001b[38;5;45mNone\u001b[0m, \u001b[38;5;34m768\u001b[0m) │ \u001b[38;5;34m7,087,…\u001b[0m │ disentangled_attent… │\n",
       "│ (\u001b[38;5;33mDisentangledAtten…\u001b[0m │                   │         │ padding_mask[\u001b[38;5;34m0\u001b[0m][\u001b[38;5;34m0\u001b[0m],  │\n",
       "│                     │                   │         │ rel_embedding[\u001b[38;5;34m0\u001b[0m][\u001b[38;5;34m0\u001b[0m]  │\n",
       "├─────────────────────┼───────────────────┼─────────┼──────────────────────┤\n",
       "│ disentangled_atten… │ (\u001b[38;5;45mNone\u001b[0m, \u001b[38;5;45mNone\u001b[0m, \u001b[38;5;34m768\u001b[0m) │ \u001b[38;5;34m7,087,…\u001b[0m │ disentangled_attent… │\n",
       "│ (\u001b[38;5;33mDisentangledAtten…\u001b[0m │                   │         │ padding_mask[\u001b[38;5;34m0\u001b[0m][\u001b[38;5;34m0\u001b[0m],  │\n",
       "│                     │                   │         │ rel_embedding[\u001b[38;5;34m0\u001b[0m][\u001b[38;5;34m0\u001b[0m]  │\n",
       "├─────────────────────┼───────────────────┼─────────┼──────────────────────┤\n",
       "│ disentangled_atten… │ (\u001b[38;5;45mNone\u001b[0m, \u001b[38;5;45mNone\u001b[0m, \u001b[38;5;34m768\u001b[0m) │ \u001b[38;5;34m7,087,…\u001b[0m │ disentangled_attent… │\n",
       "│ (\u001b[38;5;33mDisentangledAtten…\u001b[0m │                   │         │ padding_mask[\u001b[38;5;34m0\u001b[0m][\u001b[38;5;34m0\u001b[0m],  │\n",
       "│                     │                   │         │ rel_embedding[\u001b[38;5;34m0\u001b[0m][\u001b[38;5;34m0\u001b[0m]  │\n",
       "├─────────────────────┼───────────────────┼─────────┼──────────────────────┤\n",
       "│ logits (\u001b[38;5;33mDense\u001b[0m)      │ (\u001b[38;5;45mNone\u001b[0m, \u001b[38;5;45mNone\u001b[0m, \u001b[38;5;34m13\u001b[0m)  │   \u001b[38;5;34m9,997\u001b[0m │ disentangled_attent… │\n",
       "├─────────────────────┼───────────────────┼─────────┼──────────────────────┤\n",
       "│ prediction          │ (\u001b[38;5;45mNone\u001b[0m, \u001b[38;5;45mNone\u001b[0m, \u001b[38;5;34m13\u001b[0m)  │       \u001b[38;5;34m0\u001b[0m │ logits[\u001b[38;5;34m0\u001b[0m][\u001b[38;5;34m0\u001b[0m]         │\n",
       "│ (\u001b[38;5;33mActivation\u001b[0m)        │                   │         │                      │\n",
       "└─────────────────────┴───────────────────┴─────────┴──────────────────────┘\n"
      ]
     },
     "metadata": {},
     "output_type": "display_data"
    },
    {
     "data": {
      "text/html": [
       "<pre style=\"white-space:pre;overflow-x:auto;line-height:normal;font-family:Menlo,'DejaVu Sans Mono',consolas,'Courier New',monospace\"><span style=\"font-weight: bold\"> Total params: </span><span style=\"color: #00af00; text-decoration-color: #00af00\">141,314,317</span> (539.07 MB)\n",
       "</pre>\n"
      ],
      "text/plain": [
       "\u001b[1m Total params: \u001b[0m\u001b[38;5;34m141,314,317\u001b[0m (539.07 MB)\n"
      ]
     },
     "metadata": {},
     "output_type": "display_data"
    },
    {
     "data": {
      "text/html": [
       "<pre style=\"white-space:pre;overflow-x:auto;line-height:normal;font-family:Menlo,'DejaVu Sans Mono',consolas,'Courier New',monospace\"><span style=\"font-weight: bold\"> Trainable params: </span><span style=\"color: #00af00; text-decoration-color: #00af00\">141,314,317</span> (539.07 MB)\n",
       "</pre>\n"
      ],
      "text/plain": [
       "\u001b[1m Trainable params: \u001b[0m\u001b[38;5;34m141,314,317\u001b[0m (539.07 MB)\n"
      ]
     },
     "metadata": {},
     "output_type": "display_data"
    },
    {
     "data": {
      "text/html": [
       "<pre style=\"white-space:pre;overflow-x:auto;line-height:normal;font-family:Menlo,'DejaVu Sans Mono',consolas,'Courier New',monospace\"><span style=\"font-weight: bold\"> Non-trainable params: </span><span style=\"color: #00af00; text-decoration-color: #00af00\">0</span> (0.00 B)\n",
       "</pre>\n"
      ],
      "text/plain": [
       "\u001b[1m Non-trainable params: \u001b[0m\u001b[38;5;34m0\u001b[0m (0.00 B)\n"
      ]
     },
     "metadata": {},
     "output_type": "display_data"
    }
   ],
   "source": [
    "# Build Token Classification model\n",
    "backbone = keras_nlp.models.DebertaV3Backbone.from_preset(\n",
    "    CFG.preset,\n",
    ")\n",
    "out = backbone.output\n",
    "out = keras.layers.Dense(CFG.num_labels, name=\"logits\")(out)\n",
    "out = keras.layers.Activation(\"softmax\", dtype=\"float32\", name=\"prediction\")(out)\n",
    "model = keras.models.Model(backbone.input, out)\n",
    "\n",
    "# Compile model for optimizer, loss and metric\n",
    "model.compile(\n",
    "    optimizer=keras.optimizers.Adam(learning_rate=2e-5),\n",
    "    loss=CrossEntropy(),\n",
    "    metrics=[FBetaScore()],\n",
    ")\n",
    "\n",
    "# Summary of the model architecture\n",
    "model.summary()"
   ]
  },
  {
   "cell_type": "markdown",
   "metadata": {},
   "source": [
    "# ⚓ | LR Schedule\n",
    "\n",
    "A well-structured learning rate schedule is essential for efficient model training, ensuring optimal convergence and avoiding issues such as overshooting or stagnation."
   ]
  },
  {
   "cell_type": "code",
   "execution_count": 27,
   "metadata": {
    "_kg_hide-input": true,
    "execution": {
     "iopub.execute_input": "2024-04-15T11:16:58.807963Z",
     "iopub.status.busy": "2024-04-15T11:16:58.807642Z",
     "iopub.status.idle": "2024-04-15T11:16:58.819220Z",
     "shell.execute_reply": "2024-04-15T11:16:58.818058Z",
     "shell.execute_reply.started": "2024-04-15T11:16:58.807938Z"
    }
   },
   "outputs": [],
   "source": [
    "import math\n",
    "\n",
    "def get_lr_callback(batch_size=8, mode='cos', epochs=10, plot=False):\n",
    "    lr_start, lr_max, lr_min = 6e-6, 2.5e-6 * batch_size, 1e-6\n",
    "    lr_ramp_ep, lr_sus_ep, lr_decay = 3, 0, 0.75\n",
    "\n",
    "    def lrfn(epoch):  # Learning rate update function\n",
    "        if epoch < lr_ramp_ep: lr = (lr_max - lr_start) / lr_ramp_ep * epoch + lr_start\n",
    "        elif epoch < lr_ramp_ep + lr_sus_ep: lr = lr_max\n",
    "        elif mode == 'exp': lr = (lr_max - lr_min) * lr_decay**(epoch - lr_ramp_ep - lr_sus_ep) + lr_min\n",
    "        elif mode == 'step': lr = lr_max * lr_decay**((epoch - lr_ramp_ep - lr_sus_ep) // 2)\n",
    "        elif mode == 'cos':\n",
    "            decay_total_epochs, decay_epoch_index = epochs - lr_ramp_ep - lr_sus_ep + 3, epoch - lr_ramp_ep - lr_sus_ep\n",
    "            phase = math.pi * decay_epoch_index / decay_total_epochs\n",
    "            lr = (lr_max - lr_min) * 0.5 * (1 + math.cos(phase)) + lr_min\n",
    "        return lr\n",
    "\n",
    "    if plot:  # Plot lr curve if plot is True\n",
    "        fig = px.line(x=np.arange(epochs),\n",
    "                      y=[lrfn(epoch) for epoch in np.arange(epochs)], \n",
    "                      title='LR Scheduler',\n",
    "                      markers=True,\n",
    "                      labels={'x': 'epoch', 'y': 'lr'})\n",
    "        fig.update_layout(\n",
    "            yaxis = dict(\n",
    "                showexponent = 'all',\n",
    "                exponentformat = 'e'\n",
    "            )\n",
    "        )\n",
    "        fig.show()\n",
    "\n",
    "    return keras.callbacks.LearningRateScheduler(lrfn, verbose=False)  # Create lr callback"
   ]
  },
  {
   "cell_type": "code",
   "execution_count": 28,
   "metadata": {
    "_kg_hide-input": true,
    "execution": {
     "iopub.execute_input": "2024-04-15T11:16:58.825978Z",
     "iopub.status.busy": "2024-04-15T11:16:58.825660Z",
     "iopub.status.idle": "2024-04-15T11:17:00.130589Z",
     "shell.execute_reply": "2024-04-15T11:17:00.129585Z",
     "shell.execute_reply.started": "2024-04-15T11:16:58.825953Z"
    }
   },
   "outputs": [
    {
     "data": {
      "text/html": [
       "<div>                            <div id=\"49da4c81-a952-4938-8db3-8c4129a860f8\" class=\"plotly-graph-div\" style=\"height:525px; width:100%;\"></div>            <script type=\"text/javascript\">                require([\"plotly\"], function(Plotly) {                    window.PLOTLYENV=window.PLOTLYENV || {};                                    if (document.getElementById(\"49da4c81-a952-4938-8db3-8c4129a860f8\")) {                    Plotly.newPlot(                        \"49da4c81-a952-4938-8db3-8c4129a860f8\",                        [{\"hovertemplate\":\"epoch=%{x}\\u003cbr\\u003elr=%{y}\\u003cextra\\u003e\\u003c\\u002fextra\\u003e\",\"legendgroup\":\"\",\"line\":{\"color\":\"#636efa\",\"dash\":\"solid\"},\"marker\":{\"symbol\":\"circle\"},\"mode\":\"markers+lines\",\"name\":\"\",\"orientation\":\"v\",\"showlegend\":false,\"x\":[0,1,2,3,4,5,6,7,8,9],\"xaxis\":\"x\",\"y\":[6e-6,0.000017333333333333332,0.000028666666666666668,0.00004,0.000030250000000000007,0.000022937500000000005,0.000017453125000000002,0.000013339843750000002,0.000010254882812500002,7.941162109375002e-6],\"yaxis\":\"y\",\"type\":\"scatter\"}],                        {\"template\":{\"data\":{\"histogram2dcontour\":[{\"type\":\"histogram2dcontour\",\"colorbar\":{\"outlinewidth\":0,\"ticks\":\"\"},\"colorscale\":[[0.0,\"#0d0887\"],[0.1111111111111111,\"#46039f\"],[0.2222222222222222,\"#7201a8\"],[0.3333333333333333,\"#9c179e\"],[0.4444444444444444,\"#bd3786\"],[0.5555555555555556,\"#d8576b\"],[0.6666666666666666,\"#ed7953\"],[0.7777777777777778,\"#fb9f3a\"],[0.8888888888888888,\"#fdca26\"],[1.0,\"#f0f921\"]]}],\"choropleth\":[{\"type\":\"choropleth\",\"colorbar\":{\"outlinewidth\":0,\"ticks\":\"\"}}],\"histogram2d\":[{\"type\":\"histogram2d\",\"colorbar\":{\"outlinewidth\":0,\"ticks\":\"\"},\"colorscale\":[[0.0,\"#0d0887\"],[0.1111111111111111,\"#46039f\"],[0.2222222222222222,\"#7201a8\"],[0.3333333333333333,\"#9c179e\"],[0.4444444444444444,\"#bd3786\"],[0.5555555555555556,\"#d8576b\"],[0.6666666666666666,\"#ed7953\"],[0.7777777777777778,\"#fb9f3a\"],[0.8888888888888888,\"#fdca26\"],[1.0,\"#f0f921\"]]}],\"heatmap\":[{\"type\":\"heatmap\",\"colorbar\":{\"outlinewidth\":0,\"ticks\":\"\"},\"colorscale\":[[0.0,\"#0d0887\"],[0.1111111111111111,\"#46039f\"],[0.2222222222222222,\"#7201a8\"],[0.3333333333333333,\"#9c179e\"],[0.4444444444444444,\"#bd3786\"],[0.5555555555555556,\"#d8576b\"],[0.6666666666666666,\"#ed7953\"],[0.7777777777777778,\"#fb9f3a\"],[0.8888888888888888,\"#fdca26\"],[1.0,\"#f0f921\"]]}],\"heatmapgl\":[{\"type\":\"heatmapgl\",\"colorbar\":{\"outlinewidth\":0,\"ticks\":\"\"},\"colorscale\":[[0.0,\"#0d0887\"],[0.1111111111111111,\"#46039f\"],[0.2222222222222222,\"#7201a8\"],[0.3333333333333333,\"#9c179e\"],[0.4444444444444444,\"#bd3786\"],[0.5555555555555556,\"#d8576b\"],[0.6666666666666666,\"#ed7953\"],[0.7777777777777778,\"#fb9f3a\"],[0.8888888888888888,\"#fdca26\"],[1.0,\"#f0f921\"]]}],\"contourcarpet\":[{\"type\":\"contourcarpet\",\"colorbar\":{\"outlinewidth\":0,\"ticks\":\"\"}}],\"contour\":[{\"type\":\"contour\",\"colorbar\":{\"outlinewidth\":0,\"ticks\":\"\"},\"colorscale\":[[0.0,\"#0d0887\"],[0.1111111111111111,\"#46039f\"],[0.2222222222222222,\"#7201a8\"],[0.3333333333333333,\"#9c179e\"],[0.4444444444444444,\"#bd3786\"],[0.5555555555555556,\"#d8576b\"],[0.6666666666666666,\"#ed7953\"],[0.7777777777777778,\"#fb9f3a\"],[0.8888888888888888,\"#fdca26\"],[1.0,\"#f0f921\"]]}],\"surface\":[{\"type\":\"surface\",\"colorbar\":{\"outlinewidth\":0,\"ticks\":\"\"},\"colorscale\":[[0.0,\"#0d0887\"],[0.1111111111111111,\"#46039f\"],[0.2222222222222222,\"#7201a8\"],[0.3333333333333333,\"#9c179e\"],[0.4444444444444444,\"#bd3786\"],[0.5555555555555556,\"#d8576b\"],[0.6666666666666666,\"#ed7953\"],[0.7777777777777778,\"#fb9f3a\"],[0.8888888888888888,\"#fdca26\"],[1.0,\"#f0f921\"]]}],\"mesh3d\":[{\"type\":\"mesh3d\",\"colorbar\":{\"outlinewidth\":0,\"ticks\":\"\"}}],\"scatter\":[{\"fillpattern\":{\"fillmode\":\"overlay\",\"size\":10,\"solidity\":0.2},\"type\":\"scatter\"}],\"parcoords\":[{\"type\":\"parcoords\",\"line\":{\"colorbar\":{\"outlinewidth\":0,\"ticks\":\"\"}}}],\"scatterpolargl\":[{\"type\":\"scatterpolargl\",\"marker\":{\"colorbar\":{\"outlinewidth\":0,\"ticks\":\"\"}}}],\"bar\":[{\"error_x\":{\"color\":\"#2a3f5f\"},\"error_y\":{\"color\":\"#2a3f5f\"},\"marker\":{\"line\":{\"color\":\"#E5ECF6\",\"width\":0.5},\"pattern\":{\"fillmode\":\"overlay\",\"size\":10,\"solidity\":0.2}},\"type\":\"bar\"}],\"scattergeo\":[{\"type\":\"scattergeo\",\"marker\":{\"colorbar\":{\"outlinewidth\":0,\"ticks\":\"\"}}}],\"scatterpolar\":[{\"type\":\"scatterpolar\",\"marker\":{\"colorbar\":{\"outlinewidth\":0,\"ticks\":\"\"}}}],\"histogram\":[{\"marker\":{\"pattern\":{\"fillmode\":\"overlay\",\"size\":10,\"solidity\":0.2}},\"type\":\"histogram\"}],\"scattergl\":[{\"type\":\"scattergl\",\"marker\":{\"colorbar\":{\"outlinewidth\":0,\"ticks\":\"\"}}}],\"scatter3d\":[{\"type\":\"scatter3d\",\"line\":{\"colorbar\":{\"outlinewidth\":0,\"ticks\":\"\"}},\"marker\":{\"colorbar\":{\"outlinewidth\":0,\"ticks\":\"\"}}}],\"scattermapbox\":[{\"type\":\"scattermapbox\",\"marker\":{\"colorbar\":{\"outlinewidth\":0,\"ticks\":\"\"}}}],\"scatterternary\":[{\"type\":\"scatterternary\",\"marker\":{\"colorbar\":{\"outlinewidth\":0,\"ticks\":\"\"}}}],\"scattercarpet\":[{\"type\":\"scattercarpet\",\"marker\":{\"colorbar\":{\"outlinewidth\":0,\"ticks\":\"\"}}}],\"carpet\":[{\"aaxis\":{\"endlinecolor\":\"#2a3f5f\",\"gridcolor\":\"white\",\"linecolor\":\"white\",\"minorgridcolor\":\"white\",\"startlinecolor\":\"#2a3f5f\"},\"baxis\":{\"endlinecolor\":\"#2a3f5f\",\"gridcolor\":\"white\",\"linecolor\":\"white\",\"minorgridcolor\":\"white\",\"startlinecolor\":\"#2a3f5f\"},\"type\":\"carpet\"}],\"table\":[{\"cells\":{\"fill\":{\"color\":\"#EBF0F8\"},\"line\":{\"color\":\"white\"}},\"header\":{\"fill\":{\"color\":\"#C8D4E3\"},\"line\":{\"color\":\"white\"}},\"type\":\"table\"}],\"barpolar\":[{\"marker\":{\"line\":{\"color\":\"#E5ECF6\",\"width\":0.5},\"pattern\":{\"fillmode\":\"overlay\",\"size\":10,\"solidity\":0.2}},\"type\":\"barpolar\"}],\"pie\":[{\"automargin\":true,\"type\":\"pie\"}]},\"layout\":{\"autotypenumbers\":\"strict\",\"colorway\":[\"#636efa\",\"#EF553B\",\"#00cc96\",\"#ab63fa\",\"#FFA15A\",\"#19d3f3\",\"#FF6692\",\"#B6E880\",\"#FF97FF\",\"#FECB52\"],\"font\":{\"color\":\"#2a3f5f\"},\"hovermode\":\"closest\",\"hoverlabel\":{\"align\":\"left\"},\"paper_bgcolor\":\"white\",\"plot_bgcolor\":\"#E5ECF6\",\"polar\":{\"bgcolor\":\"#E5ECF6\",\"angularaxis\":{\"gridcolor\":\"white\",\"linecolor\":\"white\",\"ticks\":\"\"},\"radialaxis\":{\"gridcolor\":\"white\",\"linecolor\":\"white\",\"ticks\":\"\"}},\"ternary\":{\"bgcolor\":\"#E5ECF6\",\"aaxis\":{\"gridcolor\":\"white\",\"linecolor\":\"white\",\"ticks\":\"\"},\"baxis\":{\"gridcolor\":\"white\",\"linecolor\":\"white\",\"ticks\":\"\"},\"caxis\":{\"gridcolor\":\"white\",\"linecolor\":\"white\",\"ticks\":\"\"}},\"coloraxis\":{\"colorbar\":{\"outlinewidth\":0,\"ticks\":\"\"}},\"colorscale\":{\"sequential\":[[0.0,\"#0d0887\"],[0.1111111111111111,\"#46039f\"],[0.2222222222222222,\"#7201a8\"],[0.3333333333333333,\"#9c179e\"],[0.4444444444444444,\"#bd3786\"],[0.5555555555555556,\"#d8576b\"],[0.6666666666666666,\"#ed7953\"],[0.7777777777777778,\"#fb9f3a\"],[0.8888888888888888,\"#fdca26\"],[1.0,\"#f0f921\"]],\"sequentialminus\":[[0.0,\"#0d0887\"],[0.1111111111111111,\"#46039f\"],[0.2222222222222222,\"#7201a8\"],[0.3333333333333333,\"#9c179e\"],[0.4444444444444444,\"#bd3786\"],[0.5555555555555556,\"#d8576b\"],[0.6666666666666666,\"#ed7953\"],[0.7777777777777778,\"#fb9f3a\"],[0.8888888888888888,\"#fdca26\"],[1.0,\"#f0f921\"]],\"diverging\":[[0,\"#8e0152\"],[0.1,\"#c51b7d\"],[0.2,\"#de77ae\"],[0.3,\"#f1b6da\"],[0.4,\"#fde0ef\"],[0.5,\"#f7f7f7\"],[0.6,\"#e6f5d0\"],[0.7,\"#b8e186\"],[0.8,\"#7fbc41\"],[0.9,\"#4d9221\"],[1,\"#276419\"]]},\"xaxis\":{\"gridcolor\":\"white\",\"linecolor\":\"white\",\"ticks\":\"\",\"title\":{\"standoff\":15},\"zerolinecolor\":\"white\",\"automargin\":true,\"zerolinewidth\":2},\"yaxis\":{\"gridcolor\":\"white\",\"linecolor\":\"white\",\"ticks\":\"\",\"title\":{\"standoff\":15},\"zerolinecolor\":\"white\",\"automargin\":true,\"zerolinewidth\":2},\"scene\":{\"xaxis\":{\"backgroundcolor\":\"#E5ECF6\",\"gridcolor\":\"white\",\"linecolor\":\"white\",\"showbackground\":true,\"ticks\":\"\",\"zerolinecolor\":\"white\",\"gridwidth\":2},\"yaxis\":{\"backgroundcolor\":\"#E5ECF6\",\"gridcolor\":\"white\",\"linecolor\":\"white\",\"showbackground\":true,\"ticks\":\"\",\"zerolinecolor\":\"white\",\"gridwidth\":2},\"zaxis\":{\"backgroundcolor\":\"#E5ECF6\",\"gridcolor\":\"white\",\"linecolor\":\"white\",\"showbackground\":true,\"ticks\":\"\",\"zerolinecolor\":\"white\",\"gridwidth\":2}},\"shapedefaults\":{\"line\":{\"color\":\"#2a3f5f\"}},\"annotationdefaults\":{\"arrowcolor\":\"#2a3f5f\",\"arrowhead\":0,\"arrowwidth\":1},\"geo\":{\"bgcolor\":\"white\",\"landcolor\":\"#E5ECF6\",\"subunitcolor\":\"white\",\"showland\":true,\"showlakes\":true,\"lakecolor\":\"white\"},\"title\":{\"x\":0.05},\"mapbox\":{\"style\":\"light\"}}},\"xaxis\":{\"anchor\":\"y\",\"domain\":[0.0,1.0],\"title\":{\"text\":\"epoch\"}},\"yaxis\":{\"anchor\":\"x\",\"domain\":[0.0,1.0],\"title\":{\"text\":\"lr\"},\"showexponent\":\"all\",\"exponentformat\":\"e\"},\"legend\":{\"tracegroupgap\":0},\"title\":{\"text\":\"LR Scheduler\"}},                        {\"responsive\": true}                    ).then(function(){\n",
       "                            \n",
       "var gd = document.getElementById('49da4c81-a952-4938-8db3-8c4129a860f8');\n",
       "var x = new MutationObserver(function (mutations, observer) {{\n",
       "        var display = window.getComputedStyle(gd).display;\n",
       "        if (!display || display === 'none') {{\n",
       "            console.log([gd, 'removed!']);\n",
       "            Plotly.purge(gd);\n",
       "            observer.disconnect();\n",
       "        }}\n",
       "}});\n",
       "\n",
       "// Listen for the removal of the full notebook cells\n",
       "var notebookContainer = gd.closest('#notebook-container');\n",
       "if (notebookContainer) {{\n",
       "    x.observe(notebookContainer, {childList: true});\n",
       "}}\n",
       "\n",
       "// Listen for the clearing of the current output cell\n",
       "var outputEl = gd.closest('.output');\n",
       "if (outputEl) {{\n",
       "    x.observe(outputEl, {childList: true});\n",
       "}}\n",
       "\n",
       "                        })                };                });            </script>        </div>"
      ]
     },
     "metadata": {},
     "output_type": "display_data"
    }
   ],
   "source": [
    "lr_cb = get_lr_callback(CFG.train_batch_size, mode=CFG.lr_mode, plot=True)"
   ]
  },
  {
   "cell_type": "markdown",
   "metadata": {},
   "source": [
    "# 🚂 | Training"
   ]
  },
  {
   "cell_type": "code",
   "execution_count": 29,
   "metadata": {
    "execution": {
     "iopub.execute_input": "2024-04-15T11:17:00.132465Z",
     "iopub.status.busy": "2024-04-15T11:17:00.132045Z",
     "iopub.status.idle": "2024-04-15T11:17:08.836735Z",
     "shell.execute_reply": "2024-04-15T11:17:08.835680Z",
     "shell.execute_reply.started": "2024-04-15T11:17:00.132428Z"
    }
   },
   "outputs": [
    {
     "name": "stderr",
     "output_type": "stream",
     "text": [
      "/opt/conda/lib/python3.10/site-packages/keras/src/saving/saving_lib.py:394: UserWarning:\n",
      "\n",
      "Skipping variable loading for optimizer 'loss_scale_optimizer', because it has 4 variables whereas the saved optimizer has 214 variables. \n",
      "\n",
      "/opt/conda/lib/python3.10/site-packages/keras/src/saving/saving_lib.py:394: UserWarning:\n",
      "\n",
      "Skipping variable loading for optimizer 'adam', because it has 2 variables whereas the saved optimizer has 210 variables. \n",
      "\n"
     ]
    }
   ],
   "source": [
    "if CFG.train:\n",
    "    history = model.fit(\n",
    "        train_ds,\n",
    "        validation_data=valid_ds,\n",
    "        epochs=CFG.epochs,\n",
    "        callbacks=[lr_cb],\n",
    "        verbose=1,\n",
    "    )\n",
    "else:\n",
    "    model.load_weights(\"/kaggle/input/pii-data-detection-ckpt-ds/model.weights.h5\")"
   ]
  },
  {
   "cell_type": "markdown",
   "metadata": {},
   "source": [
    "Even though this notebook does both training and inference, let's store the **weights** of the trained model on disk in case we may need it later. Also, if you need more time for inference, you can create separate notebooks for training and inference.\n",
    "\n",
    "> **Note**: The filename of the weights should end in `.weights.h5`"
   ]
  },
  {
   "cell_type": "code",
   "execution_count": 30,
   "metadata": {
    "execution": {
     "iopub.execute_input": "2024-04-15T11:17:08.838485Z",
     "iopub.status.busy": "2024-04-15T11:17:08.838110Z",
     "iopub.status.idle": "2024-04-15T11:17:10.731186Z",
     "shell.execute_reply": "2024-04-15T11:17:10.730089Z",
     "shell.execute_reply.started": "2024-04-15T11:17:08.838452Z"
    }
   },
   "outputs": [],
   "source": [
    "model.save_weights(\"model.weights.h5\")"
   ]
  },
  {
   "cell_type": "markdown",
   "metadata": {},
   "source": [
    "# 🔬 | Evaluation\n",
    "\n",
    "We have trained and validated our model on a `1024` sequence length; however, we will be making inference using a `2000` sequence length. Thus, it is important to check how our model performs with `2000` sequence length inputs."
   ]
  },
  {
   "cell_type": "code",
   "execution_count": 32,
   "metadata": {
    "execution": {
     "iopub.execute_input": "2024-04-15T11:17:10.745379Z",
     "iopub.status.busy": "2024-04-15T11:17:10.745062Z",
     "iopub.status.idle": "2024-04-15T11:17:21.439334Z",
     "shell.execute_reply": "2024-04-15T11:17:21.438527Z",
     "shell.execute_reply.started": "2024-04-15T11:17:10.745355Z"
    }
   },
   "outputs": [],
   "source": [
    "# Build Validation dataloader with \"infer_seq_len\"\n",
    "valid_ds = build_dataset(valid_words, valid_labels, return_ids=False, batch_size=CFG.infer_batch_size,\n",
    "                        seq_len=CFG.infer_seq_len, shuffle=False, cache=False)"
   ]
  },
  {
   "cell_type": "code",
   "execution_count": 33,
   "metadata": {
    "execution": {
     "iopub.execute_input": "2024-04-15T11:17:21.441794Z",
     "iopub.status.busy": "2024-04-15T11:17:21.441476Z",
     "iopub.status.idle": "2024-04-15T11:22:21.487821Z",
     "shell.execute_reply": "2024-04-15T11:22:21.486845Z",
     "shell.execute_reply.started": "2024-04-15T11:17:21.441768Z"
    }
   },
   "outputs": [
    {
     "data": {
      "text/plain": [
       "{'f5_score': 0.37104785442352295, 'loss': 0.034370940178632736}"
      ]
     },
     "execution_count": 33,
     "metadata": {},
     "output_type": "execute_result"
    }
   ],
   "source": [
    "# Evaluate\n",
    "model.evaluate(valid_ds, return_dict=True, verbose=0)"
   ]
  },
  {
   "cell_type": "markdown",
   "metadata": {},
   "source": [
    "# 🧪 | Prediction"
   ]
  },
  {
   "cell_type": "markdown",
   "metadata": {},
   "source": [
    "## Build Test Dataloader"
   ]
  },
  {
   "cell_type": "code",
   "execution_count": 34,
   "metadata": {
    "execution": {
     "iopub.execute_input": "2024-04-15T11:22:21.489366Z",
     "iopub.status.busy": "2024-04-15T11:22:21.489072Z",
     "iopub.status.idle": "2024-04-15T11:22:23.178342Z",
     "shell.execute_reply": "2024-04-15T11:22:23.177344Z",
     "shell.execute_reply.started": "2024-04-15T11:22:21.489342Z"
    }
   },
   "outputs": [
    {
     "data": {
      "application/vnd.jupyter.widget-view+json": {
       "model_id": "e30be38fc69b4fc4ad23126af26869b7",
       "version_major": 2,
       "version_minor": 0
      },
      "text/plain": [
       "  0%|          | 0/12 [00:00<?, ?it/s]"
      ]
     },
     "metadata": {},
     "output_type": "display_data"
    }
   ],
   "source": [
    "# Test data\n",
    "test_data = json.load(open(f\"{BASE_PATH}/test.json\"))\n",
    "\n",
    "# Ensure number of samples is divisble by number of devices\n",
    "need_samples  = len(devices) - len(test_data) % len(devices)\n",
    "for _ in range(need_samples):\n",
    "    test_data.append(test_data[-1]) # repeat the last sample\n",
    "    \n",
    "# Initialize empty arrays\n",
    "test_words = np.empty(len(test_data), dtype=object)\n",
    "test_docs = np.empty(len(test_data), dtype=np.int32)\n",
    "\n",
    "# Fill the arrays\n",
    "for i, x in tqdm(enumerate(test_data), total=len(test_data)):\n",
    "    test_words[i] = np.array(x[\"tokens\"])\n",
    "    test_docs[i] = x[\"document\"]\n",
    "\n",
    "# Get token ids\n",
    "id_ds = build_dataset(test_words, return_ids=True, batch_size=len(test_words), \n",
    "                        seq_len=CFG.infer_seq_len, shuffle=False, cache=False, drop_remainder=False)\n",
    "test_token_ids = ops.convert_to_numpy([ids for ids in iter(id_ds)][0])\n",
    "\n",
    "# Build test dataloader\n",
    "test_ds = build_dataset(test_words, return_ids=False, batch_size=CFG.infer_batch_size,\n",
    "                        seq_len=CFG.infer_seq_len, shuffle=False, cache=False, drop_remainder=False)"
   ]
  },
  {
   "cell_type": "markdown",
   "metadata": {},
   "source": [
    "## Inference"
   ]
  },
  {
   "cell_type": "code",
   "execution_count": 35,
   "metadata": {
    "execution": {
     "iopub.execute_input": "2024-04-15T11:22:23.180228Z",
     "iopub.status.busy": "2024-04-15T11:22:23.179535Z",
     "iopub.status.idle": "2024-04-15T11:22:28.411226Z",
     "shell.execute_reply": "2024-04-15T11:22:28.410406Z",
     "shell.execute_reply.started": "2024-04-15T11:22:23.180201Z"
    }
   },
   "outputs": [
    {
     "name": "stdout",
     "output_type": "stream",
     "text": [
      "\u001b[1m3/3\u001b[0m \u001b[32m━━━━━━━━━━━━━━━━━━━━\u001b[0m\u001b[37m\u001b[0m \u001b[1m4s\u001b[0m 6ms/step\n"
     ]
    }
   ],
   "source": [
    "# Do inference\n",
    "test_preds = model.predict(test_ds, verbose=1)\n",
    "\n",
    "# Convert probabilities to class labels via max confidence\n",
    "test_preds = np.argmax(test_preds, axis=-1)"
   ]
  },
  {
   "cell_type": "markdown",
   "metadata": {},
   "source": [
    "## Remove Extra Samples\n",
    "\n",
    "We need to remove the extra samples we added to the test data to ensure the number of samples is divisible by the number of devices."
   ]
  },
  {
   "cell_type": "code",
   "execution_count": 36,
   "metadata": {
    "execution": {
     "iopub.execute_input": "2024-04-15T11:22:28.412779Z",
     "iopub.status.busy": "2024-04-15T11:22:28.412449Z",
     "iopub.status.idle": "2024-04-15T11:22:28.417943Z",
     "shell.execute_reply": "2024-04-15T11:22:28.416910Z",
     "shell.execute_reply.started": "2024-04-15T11:22:28.412752Z"
    }
   },
   "outputs": [],
   "source": [
    "test_docs = test_docs[:-need_samples]\n",
    "test_token_ids = test_token_ids[:-need_samples]\n",
    "test_preds = test_preds[:-need_samples]\n",
    "test_words = test_words[:-need_samples]"
   ]
  },
  {
   "cell_type": "markdown",
   "metadata": {},
   "source": [
    "## 🧹 | Post-Processing\n",
    "\n",
    "The following code processes the prediction to filter out unwanted parts. Specifically, it does the following:\n",
    "\n",
    "1. It filters out any tokens of a word that are not at the start (refer to the [🥣 | Data Processing](https://www.kaggle.com/code/awsaf49/pii-data-detection-kerasnlp-starter-notebook#%F0%9F%A5%A3-%7C-Data-Processing) section for more details).\n",
    "2. It removes samples labeled as `O` (BIO format), as the submission file requires only non-`O` samples.\n",
    "3. It ignores predictions for special tokens like `[CLS]`, `[SEP]`, and `[PAD]`.\n",
    "\n",
    "> **Note**: A unique feature of following post-processing is that it uses numpy vectorized operations to filter out predictions, making it very fast and efficient."
   ]
  },
  {
   "cell_type": "code",
   "execution_count": 37,
   "metadata": {
    "execution": {
     "iopub.execute_input": "2024-04-15T11:22:28.419670Z",
     "iopub.status.busy": "2024-04-15T11:22:28.419247Z",
     "iopub.status.idle": "2024-04-15T11:22:28.453371Z",
     "shell.execute_reply": "2024-04-15T11:22:28.452431Z",
     "shell.execute_reply.started": "2024-04-15T11:22:28.419646Z"
    }
   },
   "outputs": [
    {
     "data": {
      "application/vnd.jupyter.widget-view+json": {
       "model_id": "ffb9697778c74ed5978efa3c59aee432",
       "version_major": 2,
       "version_minor": 0
      },
      "text/plain": [
       "  0%|          | 0/10 [00:00<?, ?it/s]"
      ]
     },
     "metadata": {},
     "output_type": "display_data"
    }
   ],
   "source": [
    "document_list = []\n",
    "token_id_list = []\n",
    "label_id_list = []\n",
    "token_list = []\n",
    "\n",
    "for doc, token_ids, preds, tokens in tqdm(\n",
    "    zip(test_docs, test_token_ids, test_preds, test_words), total=len(test_words)\n",
    "):\n",
    "    # Create mask for filtering\n",
    "    mask1 = np.concatenate(([True], token_ids[1:] != token_ids[:-1])) # ignore non-start tokens of a word\n",
    "    mask2 = (preds != 12) # ignore `O` (BIO format) label -> 12 (integer format) label\n",
    "    mask3 = (token_ids != -1)  # ignore [CLS], [SEP], and [PAD] tokens\n",
    "    mask = (mask1 & mask2 & mask3) # merge filters\n",
    "    \n",
    "    # Apply filter\n",
    "    token_ids = token_ids[mask]\n",
    "    preds = preds[mask]\n",
    "\n",
    "     # Store prediction if number of tokens is not zero\n",
    "    if len(token_ids):\n",
    "        token_list.extend(tokens[token_ids])\n",
    "        document_list.extend([doc] * len(token_ids))\n",
    "        token_id_list.extend(token_ids)\n",
    "        label_id_list.extend(preds)"
   ]
  },
  {
   "cell_type": "markdown",
   "metadata": {},
   "source": [
    "# 📩 | Submission\n",
    "\n",
    "Let's build a dataframe from the predictions which will help us visually check if our model is predicting correctly or not. We also have to map **integer** labels to **string** BIO format labels."
   ]
  },
  {
   "cell_type": "code",
   "execution_count": 38,
   "metadata": {
    "execution": {
     "iopub.execute_input": "2024-04-15T11:22:28.455155Z",
     "iopub.status.busy": "2024-04-15T11:22:28.454781Z",
     "iopub.status.idle": "2024-04-15T11:22:28.482102Z",
     "shell.execute_reply": "2024-04-15T11:22:28.481152Z",
     "shell.execute_reply.started": "2024-04-15T11:22:28.455122Z"
    }
   },
   "outputs": [
    {
     "data": {
      "text/html": [
       "<div>\n",
       "<style scoped>\n",
       "    .dataframe tbody tr th:only-of-type {\n",
       "        vertical-align: middle;\n",
       "    }\n",
       "\n",
       "    .dataframe tbody tr th {\n",
       "        vertical-align: top;\n",
       "    }\n",
       "\n",
       "    .dataframe thead th {\n",
       "        text-align: right;\n",
       "    }\n",
       "</style>\n",
       "<table border=\"1\" class=\"dataframe\">\n",
       "  <thead>\n",
       "    <tr style=\"text-align: right;\">\n",
       "      <th></th>\n",
       "      <th>row_id</th>\n",
       "      <th>document</th>\n",
       "      <th>token</th>\n",
       "      <th>label_id</th>\n",
       "      <th>token_string</th>\n",
       "      <th>label</th>\n",
       "    </tr>\n",
       "  </thead>\n",
       "  <tbody>\n",
       "    <tr>\n",
       "      <th>0</th>\n",
       "      <td>0</td>\n",
       "      <td>7</td>\n",
       "      <td>9</td>\n",
       "      <td>2</td>\n",
       "      <td>Nathalie</td>\n",
       "      <td>B-NAME_STUDENT</td>\n",
       "    </tr>\n",
       "    <tr>\n",
       "      <th>1</th>\n",
       "      <td>1</td>\n",
       "      <td>7</td>\n",
       "      <td>10</td>\n",
       "      <td>8</td>\n",
       "      <td>Sylla</td>\n",
       "      <td>I-NAME_STUDENT</td>\n",
       "    </tr>\n",
       "    <tr>\n",
       "      <th>2</th>\n",
       "      <td>2</td>\n",
       "      <td>7</td>\n",
       "      <td>482</td>\n",
       "      <td>2</td>\n",
       "      <td>Nathalie</td>\n",
       "      <td>B-NAME_STUDENT</td>\n",
       "    </tr>\n",
       "    <tr>\n",
       "      <th>3</th>\n",
       "      <td>3</td>\n",
       "      <td>7</td>\n",
       "      <td>483</td>\n",
       "      <td>8</td>\n",
       "      <td>Sylla</td>\n",
       "      <td>I-NAME_STUDENT</td>\n",
       "    </tr>\n",
       "    <tr>\n",
       "      <th>4</th>\n",
       "      <td>4</td>\n",
       "      <td>7</td>\n",
       "      <td>741</td>\n",
       "      <td>2</td>\n",
       "      <td>Nathalie</td>\n",
       "      <td>B-NAME_STUDENT</td>\n",
       "    </tr>\n",
       "    <tr>\n",
       "      <th>5</th>\n",
       "      <td>5</td>\n",
       "      <td>7</td>\n",
       "      <td>742</td>\n",
       "      <td>8</td>\n",
       "      <td>Sylla</td>\n",
       "      <td>I-NAME_STUDENT</td>\n",
       "    </tr>\n",
       "    <tr>\n",
       "      <th>6</th>\n",
       "      <td>6</td>\n",
       "      <td>10</td>\n",
       "      <td>0</td>\n",
       "      <td>2</td>\n",
       "      <td>Diego</td>\n",
       "      <td>B-NAME_STUDENT</td>\n",
       "    </tr>\n",
       "    <tr>\n",
       "      <th>7</th>\n",
       "      <td>7</td>\n",
       "      <td>10</td>\n",
       "      <td>1</td>\n",
       "      <td>8</td>\n",
       "      <td>Estrada</td>\n",
       "      <td>I-NAME_STUDENT</td>\n",
       "    </tr>\n",
       "    <tr>\n",
       "      <th>8</th>\n",
       "      <td>8</td>\n",
       "      <td>10</td>\n",
       "      <td>464</td>\n",
       "      <td>2</td>\n",
       "      <td>Diego</td>\n",
       "      <td>B-NAME_STUDENT</td>\n",
       "    </tr>\n",
       "    <tr>\n",
       "      <th>9</th>\n",
       "      <td>9</td>\n",
       "      <td>10</td>\n",
       "      <td>465</td>\n",
       "      <td>8</td>\n",
       "      <td>Estrada</td>\n",
       "      <td>I-NAME_STUDENT</td>\n",
       "    </tr>\n",
       "  </tbody>\n",
       "</table>\n",
       "</div>"
      ],
      "text/plain": [
       "   row_id  document  token  label_id token_string           label\n",
       "0       0         7      9         2     Nathalie  B-NAME_STUDENT\n",
       "1       1         7     10         8        Sylla  I-NAME_STUDENT\n",
       "2       2         7    482         2     Nathalie  B-NAME_STUDENT\n",
       "3       3         7    483         8        Sylla  I-NAME_STUDENT\n",
       "4       4         7    741         2     Nathalie  B-NAME_STUDENT\n",
       "5       5         7    742         8        Sylla  I-NAME_STUDENT\n",
       "6       6        10      0         2        Diego  B-NAME_STUDENT\n",
       "7       7        10      1         8      Estrada  I-NAME_STUDENT\n",
       "8       8        10    464         2        Diego  B-NAME_STUDENT\n",
       "9       9        10    465         8      Estrada  I-NAME_STUDENT"
      ]
     },
     "execution_count": 38,
     "metadata": {},
     "output_type": "execute_result"
    }
   ],
   "source": [
    "pred_df = pd.DataFrame(\n",
    "    {\n",
    "        \"document\": document_list,\n",
    "        \"token\": token_id_list,\n",
    "        \"label_id\": label_id_list,\n",
    "        \"token_string\": token_list,\n",
    "    }\n",
    ")\n",
    "pred_df = pred_df.rename_axis(\"row_id\").reset_index() # add `row_id` column\n",
    "pred_df[\"label\"] = pred_df.label_id.map(CFG.id2label) # map integer label to BIO format label\n",
    "pred_df.head(10)"
   ]
  },
  {
   "cell_type": "markdown",
   "metadata": {},
   "source": [
    "In `submission.csv` we are excluding `token_string` and `label_id` from the columns as they are not part of submission file."
   ]
  },
  {
   "cell_type": "code",
   "execution_count": 1,
   "metadata": {
    "execution": {
     "iopub.execute_input": "2024-04-15T17:58:25.670446Z",
     "iopub.status.busy": "2024-04-15T17:58:25.669791Z",
     "iopub.status.idle": "2024-04-15T17:58:26.792544Z",
     "shell.execute_reply": "2024-04-15T17:58:26.791220Z",
     "shell.execute_reply.started": "2024-04-15T17:58:25.670416Z"
    }
   },
   "outputs": [
    {
     "name": "stderr",
     "output_type": "stream",
     "text": [
      "/opt/conda/lib/python3.10/pty.py:89: RuntimeWarning:\n",
      "\n",
      "os.fork() was called. os.fork() is incompatible with multithreaded code, and JAX is multithreaded, so this will likely lead to a deadlock.\n",
      "\n"
     ]
    },
    {
     "name": "stdout",
     "output_type": "stream",
     "text": [
      "Python 3.10.13\n"
     ]
    }
   ],
   "source": [
    "!python --version"
   ]
  },
  {
   "cell_type": "code",
   "execution_count": 39,
   "metadata": {
    "execution": {
     "iopub.execute_input": "2024-04-15T11:22:28.483482Z",
     "iopub.status.busy": "2024-04-15T11:22:28.483187Z",
     "iopub.status.idle": "2024-04-15T11:22:28.493104Z",
     "shell.execute_reply": "2024-04-15T11:22:28.492138Z",
     "shell.execute_reply.started": "2024-04-15T11:22:28.483457Z"
    }
   },
   "outputs": [],
   "source": [
    "sub_df = pred_df.drop(columns=[\"token_string\", \"label_id\"]) # remove extra columns\n",
    "sub_df.to_csv(\"submission.csv\", index=False)"
   ]
  },
  {
   "cell_type": "markdown",
   "metadata": {},
   "source": [
    "# 🔗 | Reference\n",
    "* [Detect Fake Text: KerasNLP [TF/Torch/JAX][Train]](https://www.kaggle.com/code/awsaf49/detect-fake-text-kerasnlp-tf-torch-jax-train)\n",
    "* [Token classification](https://huggingface.co/docs/transformers/en/tasks/token_classification)\n",
    "* [transformer ner baseline [lb 0.854]](https://www.kaggle.com/code/nbroad/transformer-ner-baseline-lb-0-854)"
   ]
  }
 ],
 "metadata": {
  "kaggle": {
   "accelerator": "none",
   "dataSources": [
    {
     "databundleVersionId": 7500999,
     "sourceId": 66653,
     "sourceType": "competition"
    },
    {
     "datasetId": 4332496,
     "sourceId": 7466758,
     "sourceType": "datasetVersion"
    },
    {
     "datasetId": 4379849,
     "sourceId": 7518925,
     "sourceType": "datasetVersion"
    },
    {
     "datasetId": 4308295,
     "sourceId": 7526248,
     "sourceType": "datasetVersion"
    },
    {
     "datasetId": 4442914,
     "sourceId": 7626226,
     "sourceType": "datasetVersion"
    },
    {
     "datasetId": 4459964,
     "sourceId": 7659420,
     "sourceType": "datasetVersion"
    },
    {
     "datasetId": 4779069,
     "sourceId": 8094403,
     "sourceType": "datasetVersion"
    },
    {
     "modelInstanceId": 4685,
     "sourceId": 6064,
     "sourceType": "modelInstanceVersion"
    },
    {
     "modelInstanceId": 4686,
     "sourceId": 6065,
     "sourceType": "modelInstanceVersion"
    },
    {
     "modelInstanceId": 4689,
     "sourceId": 6068,
     "sourceType": "modelInstanceVersion"
    },
    {
     "modelInstanceId": 4690,
     "sourceId": 6069,
     "sourceType": "modelInstanceVersion"
    }
   ],
   "isGpuEnabled": false,
   "isInternetEnabled": true,
   "language": "python",
   "sourceType": "notebook"
  },
  "kernelspec": {
   "display_name": "Python 3 (ipykernel)",
   "language": "python",
   "name": "python3"
  },
  "language_info": {
   "codemirror_mode": {
    "name": "ipython",
    "version": 3
   },
   "file_extension": ".py",
   "mimetype": "text/x-python",
   "name": "python",
   "nbconvert_exporter": "python",
   "pygments_lexer": "ipython3",
   "version": "3.11.5"
  }
 },
 "nbformat": 4,
 "nbformat_minor": 4
}
